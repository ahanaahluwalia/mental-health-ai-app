{
 "cells": [
  {
   "cell_type": "markdown",
   "id": "93a8f149",
   "metadata": {},
   "source": [
    "A module to import CSV data and concatenate all the data at the specified path into a single dataframe. "
   ]
  },
  {
   "cell_type": "code",
   "execution_count": 1,
   "id": "72b46b99",
   "metadata": {},
   "outputs": [],
   "source": [
    "# import Libraries\n",
    "import pandas as pd\n",
    "import os"
   ]
  },
  {
   "cell_type": "code",
   "execution_count": 2,
   "id": "6b10342f",
   "metadata": {},
   "outputs": [],
   "source": [
    "# get path to data and get the data folders \n",
    "path = \"datasets\\\\twitter\"\n",
    "data_folders = os.listdir(path)"
   ]
  },
  {
   "cell_type": "code",
   "execution_count": 5,
   "id": "d8fe1b64",
   "metadata": {},
   "outputs": [],
   "source": [
    "# data_df = pd.DataFrame(columns=[\"Content\", \"Location\", \"Username\", \"Retweet-Count\", \"Favorites\", \"Created at\"])\n",
    "data_df = pd.DataFrame()\n",
    "for data_folder in data_folders:\n",
    "    for data_file in os.listdir(os.path.join(path, data_folder)):\n",
    "        csv_path = os.path.join(path, data_folder, data_file)\n",
    "        csv_data = pd.read_csv(csv_path, lineterminator='\\n')\n",
    "        data_df = data_df.append(csv_data)\n",
    "    "
   ]
  },
  {
   "cell_type": "code",
   "execution_count": 7,
   "id": "811608d9",
   "metadata": {},
   "outputs": [],
   "source": [
    "# export the data\n",
    "data_df.to_csv(\"concatenated_data\" + \".csv\", index=False)"
   ]
  }
 ],
 "metadata": {
  "kernelspec": {
   "display_name": "Python 3",
   "language": "python",
   "name": "python3"
  },
  "language_info": {
   "codemirror_mode": {
    "name": "ipython",
    "version": 3
   },
   "file_extension": ".py",
   "mimetype": "text/x-python",
   "name": "python",
   "nbconvert_exporter": "python",
   "pygments_lexer": "ipython3",
   "version": "3.8.8"
  }
 },
 "nbformat": 4,
 "nbformat_minor": 5
}
