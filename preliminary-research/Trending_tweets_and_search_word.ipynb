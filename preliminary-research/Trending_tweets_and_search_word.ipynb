{
  "nbformat": 4,
  "nbformat_minor": 0,
  "metadata": {
    "colab": {
      "name": "Trending_tweets and search_word.ipynb",
      "provenance": [],
      "mount_file_id": "17fie9qz8qj6LivmS5a4oPCdsTJ06mQlb",
      "authorship_tag": "ABX9TyPoTzbU9+hQVWpU4sQCXOlW",
      "include_colab_link": true
    },
    "kernelspec": {
      "name": "python3",
      "display_name": "Python 3"
    },
    "language_info": {
      "name": "python"
    }
  },
  "cells": [
    {
      "cell_type": "markdown",
      "metadata": {
        "id": "view-in-github",
        "colab_type": "text"
      },
      "source": [
        "<a href=\"https://colab.research.google.com/github/joudelshawa/mental-health-ai-app/blob/main/Trending_tweets_and_search_word.ipynb\" target=\"_parent\"><img src=\"https://colab.research.google.com/assets/colab-badge.svg\" alt=\"Open In Colab\"/></a>"
      ]
    },
    {
      "cell_type": "code",
      "metadata": {
        "id": "CqVJZCJW_T3t"
      },
      "source": [
        "#import library\n",
        "import tweepy\n",
        "import pandas as pd\n",
        "import numpy as np\n",
        "import os\n",
        "import pandas as pd\n",
        "#import json"
      ],
      "execution_count": 6,
      "outputs": []
    },
    {
      "cell_type": "code",
      "metadata": {
        "id": "Hmvc5vLQCpp4"
      },
      "source": [
        "# Get the necessary API information \n",
        "consumer_key = \"mdmzMBrRM2nNnTdEoN7jZuxmY\"\n",
        "consumer_key_secret = \"3D6YYKcs6kheu1VjqZzkHOu9Fu5RBXKYOG947t0PGykr39btce\"\n",
        "access_token = \"525051045-gOq1C7h2YUbz1gFhRuehci0atHZUPwFC5nwlv0VP\"\n",
        "access_token_secret = \"eXvSLyGa9OrzS6R1EiZ86nxvHGpP0RsxelqyVWkxZqmYV\""
      ],
      "execution_count": 7,
      "outputs": []
    },
    {
      "cell_type": "code",
      "metadata": {
        "id": "KgVNMl0SC64C"
      },
      "source": [
        "# authorization of consumer key and consumer secret\n",
        "auth = tweepy.OAuthHandler(consumer_key, consumer_key_secret)\n",
        "  \n",
        "# set access to user's access key and access secret \n",
        "auth.set_access_token(access_token, access_token_secret)\n",
        "  \n",
        "# calling the api \n",
        "api = tweepy.API(auth)\n",
        "  \n",
        "# WOEID of London/canada/USA\n",
        "woeid = 23424775                      #44418\n",
        "  \n",
        "# fetching the trends\n",
        "trends = api.trends_place(id = woeid,lang='en')"
      ],
      "execution_count": 8,
      "outputs": []
    },
    {
      "cell_type": "code",
      "metadata": {
        "colab": {
          "base_uri": "https://localhost:8080/"
        },
        "id": "joFbmrfGZsCK",
        "outputId": "157dc3a1-c7fc-4c6b-bbd1-6ef071ebd399"
      },
      "source": [
        "#trends = json.loads(json.dumps(trends, indent=1))\n",
        " \n",
        "#for trend in trends[0]['trends']:\n",
        "  #print(trend['name'])"
      ],
      "execution_count": null,
      "outputs": [
        {
          "output_type": "stream",
          "text": [
            "Isak\n",
            "Scotland\n",
            "Berg\n",
            "Skriniar\n",
            "#DailyBriefing\n",
            "Parliament\n",
            "#YourBizHour\n",
            "Cinderella\n",
            "#inbizhour\n",
            "Xavi\n",
            "#Covid19UK\n",
            "#ToryShambles\n",
            "Thousands\n",
            "Cesc Fabregas\n",
            "Bojo\n",
            "Adrian\n",
            "Szczesny\n",
            "Wimbledon\n",
            "Peter Walton\n",
            "Dykes\n",
            "Morata\n",
            "Spain\n",
            "Danny Murphy\n",
            "Boris\n",
            "Emma Hayes\n",
            "Seb Larsson\n",
            "Paul Ince\n",
            "Koke\n",
            "Poland\n",
            "Pedri\n",
            "Lustig\n",
            "Luis Enrique\n",
            "Torres\n",
            "Thiago\n",
            "Delta\n",
            "Whitty\n",
            "Marshall\n",
            "Lindelof\n",
            "Slovakia\n",
            "Gerard Moreno\n",
            "19th of July\n",
            "Laporte\n",
            "Seville\n",
            "Speaker\n",
            "Llorente\n",
            "Janine\n",
            "Lewandowski\n",
            "Hoyle\n",
            "Freedom Day\n"
          ],
          "name": "stdout"
        }
      ]
    },
    {
      "cell_type": "code",
      "metadata": {
        "colab": {
          "base_uri": "https://localhost:8080/"
        },
        "id": "u6fG9FeUJbD8",
        "outputId": "ee68dcbf-a897-4da3-b7d1-6749337ef001"
      },
      "source": [
        "#trends=list(trends)\n",
        "#trends"
      ],
      "execution_count": null,
      "outputs": [
        {
          "output_type": "execute_result",
          "data": {
            "text/plain": [
              "[{'as_of': '2021-06-14T20:10:01Z',\n",
              "  'created_at': '2021-06-08T21:34:36Z',\n",
              "  'locations': [{'name': 'London', 'woeid': 44418}],\n",
              "  'trends': [{'name': 'Skriniar',\n",
              "    'promoted_content': None,\n",
              "    'query': 'Skriniar',\n",
              "    'tweet_volume': 11529,\n",
              "    'url': 'http://twitter.com/search?q=Skriniar'},\n",
              "   {'name': 'Parliament',\n",
              "    'promoted_content': None,\n",
              "    'query': 'Parliament',\n",
              "    'tweet_volume': 78838,\n",
              "    'url': 'http://twitter.com/search?q=Parliament'},\n",
              "   {'name': '#DailyBriefing',\n",
              "    'promoted_content': None,\n",
              "    'query': '%23DailyBriefing',\n",
              "    'tweet_volume': None,\n",
              "    'url': 'http://twitter.com/search?q=%23DailyBriefing'},\n",
              "   {'name': 'Andrew Lloyd Webber',\n",
              "    'promoted_content': None,\n",
              "    'query': '%22Andrew+Lloyd+Webber%22',\n",
              "    'tweet_volume': None,\n",
              "    'url': 'http://twitter.com/search?q=%22Andrew+Lloyd+Webber%22'},\n",
              "   {'name': 'Krychowiak',\n",
              "    'promoted_content': None,\n",
              "    'query': 'Krychowiak',\n",
              "    'tweet_volume': 10025,\n",
              "    'url': 'http://twitter.com/search?q=Krychowiak'},\n",
              "   {'name': '#YourBizHour',\n",
              "    'promoted_content': None,\n",
              "    'query': '%23YourBizHour',\n",
              "    'tweet_volume': None,\n",
              "    'url': 'http://twitter.com/search?q=%23YourBizHour'},\n",
              "   {'name': 'Cinderella',\n",
              "    'promoted_content': None,\n",
              "    'query': 'Cinderella',\n",
              "    'tweet_volume': None,\n",
              "    'url': 'http://twitter.com/search?q=Cinderella'},\n",
              "   {'name': '#inbizhour',\n",
              "    'promoted_content': None,\n",
              "    'query': '%23inbizhour',\n",
              "    'tweet_volume': None,\n",
              "    'url': 'http://twitter.com/search?q=%23inbizhour'},\n",
              "   {'name': 'BoJo',\n",
              "    'promoted_content': None,\n",
              "    'query': 'BoJo',\n",
              "    'tweet_volume': None,\n",
              "    'url': 'http://twitter.com/search?q=BoJo'},\n",
              "   {'name': 'Lindelof',\n",
              "    'promoted_content': None,\n",
              "    'query': 'Lindelof',\n",
              "    'tweet_volume': None,\n",
              "    'url': 'http://twitter.com/search?q=Lindelof'},\n",
              "   {'name': 'Szczesny',\n",
              "    'promoted_content': None,\n",
              "    'query': 'Szczesny',\n",
              "    'tweet_volume': 15605,\n",
              "    'url': 'http://twitter.com/search?q=Szczesny'},\n",
              "   {'name': 'Adrian',\n",
              "    'promoted_content': None,\n",
              "    'query': 'Adrian',\n",
              "    'tweet_volume': 28928,\n",
              "    'url': 'http://twitter.com/search?q=Adrian'},\n",
              "   {'name': 'Step 4',\n",
              "    'promoted_content': None,\n",
              "    'query': '%22Step+4%22',\n",
              "    'tweet_volume': None,\n",
              "    'url': 'http://twitter.com/search?q=%22Step+4%22'},\n",
              "   {'name': '#LaiOut',\n",
              "    'promoted_content': None,\n",
              "    'query': '%23LaiOut',\n",
              "    'tweet_volume': None,\n",
              "    'url': 'http://twitter.com/search?q=%23LaiOut'},\n",
              "   {'name': 'Cesc Fabregas',\n",
              "    'promoted_content': None,\n",
              "    'query': '%22Cesc+Fabregas%22',\n",
              "    'tweet_volume': None,\n",
              "    'url': 'http://twitter.com/search?q=%22Cesc+Fabregas%22'},\n",
              "   {'name': 'Wimbledon',\n",
              "    'promoted_content': None,\n",
              "    'query': 'Wimbledon',\n",
              "    'tweet_volume': None,\n",
              "    'url': 'http://twitter.com/search?q=Wimbledon'},\n",
              "   {'name': 'Peter Walton',\n",
              "    'promoted_content': None,\n",
              "    'query': '%22Peter+Walton%22',\n",
              "    'tweet_volume': None,\n",
              "    'url': 'http://twitter.com/search?q=%22Peter+Walton%22'},\n",
              "   {'name': 'Mike Skinner',\n",
              "    'promoted_content': None,\n",
              "    'query': '%22Mike+Skinner%22',\n",
              "    'tweet_volume': None,\n",
              "    'url': 'http://twitter.com/search?q=%22Mike+Skinner%22'},\n",
              "   {'name': '#TheLastofUs',\n",
              "    'promoted_content': None,\n",
              "    'query': '%23TheLastofUs',\n",
              "    'tweet_volume': None,\n",
              "    'url': 'http://twitter.com/search?q=%23TheLastofUs'},\n",
              "   {'name': 'Bangladesh',\n",
              "    'promoted_content': None,\n",
              "    'query': 'Bangladesh',\n",
              "    'tweet_volume': 19325,\n",
              "    'url': 'http://twitter.com/search?q=Bangladesh'},\n",
              "   {'name': 'Martin Bashir',\n",
              "    'promoted_content': None,\n",
              "    'query': '%22Martin+Bashir%22',\n",
              "    'tweet_volume': None,\n",
              "    'url': 'http://twitter.com/search?q=%22Martin+Bashir%22'},\n",
              "   {'name': 'Dykes',\n",
              "    'promoted_content': None,\n",
              "    'query': 'Dykes',\n",
              "    'tweet_volume': None,\n",
              "    'url': 'http://twitter.com/search?q=Dykes'},\n",
              "   {'name': 'Tierney',\n",
              "    'promoted_content': None,\n",
              "    'query': 'Tierney',\n",
              "    'tweet_volume': None,\n",
              "    'url': 'http://twitter.com/search?q=Tierney'},\n",
              "   {'name': 'Morata',\n",
              "    'promoted_content': None,\n",
              "    'query': 'Morata',\n",
              "    'tweet_volume': 90783,\n",
              "    'url': 'http://twitter.com/search?q=Morata'},\n",
              "   {'name': 'Spain',\n",
              "    'promoted_content': None,\n",
              "    'query': 'Spain',\n",
              "    'tweet_volume': 97977,\n",
              "    'url': 'http://twitter.com/search?q=Spain'},\n",
              "   {'name': 'Danny Murphy',\n",
              "    'promoted_content': None,\n",
              "    'query': '%22Danny+Murphy%22',\n",
              "    'tweet_volume': None,\n",
              "    'url': 'http://twitter.com/search?q=%22Danny+Murphy%22'},\n",
              "   {'name': 'Boris',\n",
              "    'promoted_content': None,\n",
              "    'query': 'Boris',\n",
              "    'tweet_volume': 153853,\n",
              "    'url': 'http://twitter.com/search?q=Boris'},\n",
              "   {'name': 'Isak',\n",
              "    'promoted_content': None,\n",
              "    'query': 'Isak',\n",
              "    'tweet_volume': 12637,\n",
              "    'url': 'http://twitter.com/search?q=Isak'},\n",
              "   {'name': 'Emma Hayes',\n",
              "    'promoted_content': None,\n",
              "    'query': '%22Emma+Hayes%22',\n",
              "    'tweet_volume': None,\n",
              "    'url': 'http://twitter.com/search?q=%22Emma+Hayes%22'},\n",
              "   {'name': 'Scotland',\n",
              "    'promoted_content': None,\n",
              "    'query': 'Scotland',\n",
              "    'tweet_volume': 187340,\n",
              "    'url': 'http://twitter.com/search?q=Scotland'},\n",
              "   {'name': 'Seb Larsson',\n",
              "    'promoted_content': None,\n",
              "    'query': '%22Seb+Larsson%22',\n",
              "    'tweet_volume': None,\n",
              "    'url': 'http://twitter.com/search?q=%22Seb+Larsson%22'},\n",
              "   {'name': 'Paul Ince',\n",
              "    'promoted_content': None,\n",
              "    'query': '%22Paul+Ince%22',\n",
              "    'tweet_volume': None,\n",
              "    'url': 'http://twitter.com/search?q=%22Paul+Ince%22'},\n",
              "   {'name': 'Poland',\n",
              "    'promoted_content': None,\n",
              "    'query': 'Poland',\n",
              "    'tweet_volume': 39662,\n",
              "    'url': 'http://twitter.com/search?q=Poland'},\n",
              "   {'name': 'Koke',\n",
              "    'promoted_content': None,\n",
              "    'query': 'Koke',\n",
              "    'tweet_volume': 14050,\n",
              "    'url': 'http://twitter.com/search?q=Koke'},\n",
              "   {'name': 'Pedri',\n",
              "    'promoted_content': None,\n",
              "    'query': 'Pedri',\n",
              "    'tweet_volume': 21782,\n",
              "    'url': 'http://twitter.com/search?q=Pedri'},\n",
              "   {'name': 'Delta',\n",
              "    'promoted_content': None,\n",
              "    'query': 'Delta',\n",
              "    'tweet_volume': 157148,\n",
              "    'url': 'http://twitter.com/search?q=Delta'},\n",
              "   {'name': 'Marshall',\n",
              "    'promoted_content': None,\n",
              "    'query': 'Marshall',\n",
              "    'tweet_volume': 23939,\n",
              "    'url': 'http://twitter.com/search?q=Marshall'},\n",
              "   {'name': 'Whitty',\n",
              "    'promoted_content': None,\n",
              "    'query': 'Whitty',\n",
              "    'tweet_volume': 10255,\n",
              "    'url': 'http://twitter.com/search?q=Whitty'},\n",
              "   {'name': '19th of July',\n",
              "    'promoted_content': None,\n",
              "    'query': '%2219th+of+July%22',\n",
              "    'tweet_volume': None,\n",
              "    'url': 'http://twitter.com/search?q=%2219th+of+July%22'},\n",
              "   {'name': 'Torres',\n",
              "    'promoted_content': None,\n",
              "    'query': 'Torres',\n",
              "    'tweet_volume': 95090,\n",
              "    'url': 'http://twitter.com/search?q=Torres'},\n",
              "   {'name': 'Luis Enrique',\n",
              "    'promoted_content': None,\n",
              "    'query': '%22Luis+Enrique%22',\n",
              "    'tweet_volume': 16145,\n",
              "    'url': 'http://twitter.com/search?q=%22Luis+Enrique%22'},\n",
              "   {'name': 'Gerard Moreno',\n",
              "    'promoted_content': None,\n",
              "    'query': '%22Gerard+Moreno%22',\n",
              "    'tweet_volume': 13401,\n",
              "    'url': 'http://twitter.com/search?q=%22Gerard+Moreno%22'},\n",
              "   {'name': 'Speaker',\n",
              "    'promoted_content': None,\n",
              "    'query': 'Speaker',\n",
              "    'tweet_volume': 62013,\n",
              "    'url': 'http://twitter.com/search?q=Speaker'},\n",
              "   {'name': 'Laporte',\n",
              "    'promoted_content': None,\n",
              "    'query': 'Laporte',\n",
              "    'tweet_volume': 14408,\n",
              "    'url': 'http://twitter.com/search?q=Laporte'},\n",
              "   {'name': 'Lewandowski',\n",
              "    'promoted_content': None,\n",
              "    'query': 'Lewandowski',\n",
              "    'tweet_volume': 38171,\n",
              "    'url': 'http://twitter.com/search?q=Lewandowski'},\n",
              "   {'name': 'Janine',\n",
              "    'promoted_content': None,\n",
              "    'query': 'Janine',\n",
              "    'tweet_volume': None,\n",
              "    'url': 'http://twitter.com/search?q=Janine'},\n",
              "   {'name': 'Seville',\n",
              "    'promoted_content': None,\n",
              "    'query': 'Seville',\n",
              "    'tweet_volume': None,\n",
              "    'url': 'http://twitter.com/search?q=Seville'},\n",
              "   {'name': 'Llorente',\n",
              "    'promoted_content': None,\n",
              "    'query': 'Llorente',\n",
              "    'tweet_volume': 16156,\n",
              "    'url': 'http://twitter.com/search?q=Llorente'},\n",
              "   {'name': 'Hoyle',\n",
              "    'promoted_content': None,\n",
              "    'query': 'Hoyle',\n",
              "    'tweet_volume': 10746,\n",
              "    'url': 'http://twitter.com/search?q=Hoyle'}]}]"
            ]
          },
          "metadata": {
            "tags": []
          },
          "execution_count": 74
        }
      ]
    },
    {
      "cell_type": "code",
      "metadata": {
        "colab": {
          "base_uri": "https://localhost:8080/"
        },
        "id": "XPBi4kUwapuQ",
        "outputId": "770016c0-45f5-4d27-8a12-0a917ea1611d"
      },
      "source": [
        "y=[x['name'] for x in trends[0]['trends'] if x['name'].find('#') ==0]\n",
        "print(y)\n",
        "hashtags=y"
      ],
      "execution_count": 9,
      "outputs": [
        {
          "output_type": "stream",
          "text": [
            "['#WWENXT', '#GazaUnderAttack', '#DefundCBC', '#Yankees', '#FRAALL', '#COVIDVaccination', '#SHIB', '#seniors', '#botw2']\n"
          ],
          "name": "stdout"
        }
      ]
    },
    {
      "cell_type": "code",
      "metadata": {
        "id": "xyW6AAM0ORoR"
      },
      "source": [
        "# Create a search list\n",
        "search_list = [\"Arts & Culture\",  \\\n",
        "               \"Business & Finance\",    \\\n",
        "               \"Careers\",  \\\n",
        "               \"entertainment\",      \\\n",
        "               \"Fashion & beauty\",    \\\n",
        "               \"ftiness\",    \\\n",
        "               \"food\", \\\n",
        "               \"gaming\",       \\\n",
        "               \"home & family\",         \\\n",
        "               \"new\", \"outdoors\", \"politics\", \"science\", \"sports\", \"technology\", \"travel\"]\n"
      ],
      "execution_count": 10,
      "outputs": []
    },
    {
      "cell_type": "code",
      "metadata": {
        "colab": {
          "base_uri": "https://localhost:8080/",
          "height": 132
        },
        "id": "7aTLD9QqdUlG",
        "outputId": "25b3b328-a049-41d6-e3c1-8d6fae7a54ce"
      },
      "source": [
        "#search_name=y      #\"#EnoughIsEnough\"\n",
        "#tweets=[]\n",
        "#for x in search_name:\n",
        "   # tweets = tweepy.Cursor(api.search,\n",
        "                          # q=x,\n",
        "                          # lang=\"en\",\n",
        "                          # result_type=\"recent\"\n",
        "                          # ).items(2)\n",
        "    # tweet_text=[]\n",
        "    # for tweet_text in tweets:\n",
        "        # tweet_text.append(tweet_text.text)\n",
        "        # print(tweet_text)\n"
      ],
      "execution_count": null,
      "outputs": [
        {
          "output_type": "error",
          "ename": "IndentationError",
          "evalue": "ignored",
          "traceback": [
            "\u001b[0;36m  File \u001b[0;32m\"<ipython-input-89-e5a1c2f4a04c>\"\u001b[0;36m, line \u001b[0;32m9\u001b[0m\n\u001b[0;31m    tweet_text=[]\u001b[0m\n\u001b[0m    ^\u001b[0m\n\u001b[0;31mIndentationError\u001b[0m\u001b[0;31m:\u001b[0m unexpected indent\n"
          ]
        }
      ]
    },
    {
      "cell_type": "code",
      "metadata": {
        "id": "egdJVA1xL3TD"
      },
      "source": [
        "# Define a function to get tweets\n",
        "def get_tweets(search, is_Hashtag):\n",
        "    \n",
        "    # Create a pandas DataFrame\n",
        "    df_temp = pd.DataFrame(columns = [\"Content\", \"Location\", \"Username\", \"Retweet-Count\", \"Favorites\", \"Created at\"])\n",
        "    \n",
        "    # Get the tweets\n",
        "    tweets = tweepy.Cursor(api.search, q = search + \" -filter:retweets\", lang=\"en\",since=\"2020-12-06\", tweet_mode='extended').items(100)\n",
        "    \n",
        "    # Iterate over tweets\n",
        "    for tweet in tweets:\n",
        "        content = tweet.full_text\n",
        "        username = tweet.user.screen_name\n",
        "        location = tweet.user.location\n",
        "        created_at = tweet.created_at\n",
        "        retweetcount = tweet.retweet_count\n",
        "        favorites = tweet.favorite_count\n",
        "        \n",
        "        # Create a list consists of the features\n",
        "        retrieved = [content, location, username, retweetcount, favorites, created_at]\n",
        "        \n",
        "        # Append list to the DataFrame\n",
        "        df_temp.loc[len(df_temp)] = retrieved\n",
        "        \n",
        "    # Generate unique filename\n",
        "    path = os.getcwd()\n",
        "    \n",
        "    # Generate a filename for hashtags or specific word\n",
        "    if is_Hashtag:\n",
        "        filename = path + '/drive/MyDrive/tweeter1/' + search[1:] + '_hashtag.csv'\n",
        "    else:\n",
        "        filename = path + '/drive/MyDrive/tweeter1/' + search.replace(\" \", \"\") + '_wordsearch.csv'\n",
        "    # Save the csv file\n",
        "    df_temp.to_csv(filename)\n",
        "\n",
        "\n",
        "# Call get_tweets function for each hashtag and search word\n",
        "\n",
        "for hashtag in hashtags:\n",
        "    get_tweets(hashtag, is_Hashtag=True)\n",
        "for search in search_list:\n",
        "    get_tweets(search, is_Hashtag=False)"
      ],
      "execution_count": 12,
      "outputs": []
    },
    {
      "cell_type": "code",
      "metadata": {
        "colab": {
          "base_uri": "https://localhost:8080/"
        },
        "id": "HV9ILkG6MRRo",
        "outputId": "d73e7fd1-4b8a-4ee3-aa4a-834cd1c0934f"
      },
      "source": [
        "from google.colab import drive\n",
        "drive.mount('/content/drive')"
      ],
      "execution_count": null,
      "outputs": [
        {
          "output_type": "stream",
          "text": [
            "Drive already mounted at /content/drive; to attempt to forcibly remount, call drive.mount(\"/content/drive\", force_remount=True).\n"
          ],
          "name": "stdout"
        }
      ]
    },
    {
      "cell_type": "code",
      "metadata": {
        "colab": {
          "base_uri": "https://localhost:8080/"
        },
        "id": "yzUDrjCiguQx",
        "outputId": "619af757-f58a-4b9d-cdfd-6ed1ab70496b"
      },
      "source": [
        "#print(tweets)"
      ],
      "execution_count": null,
      "outputs": [
        {
          "output_type": "stream",
          "text": [
            "<tweepy.cursor.Cursor object at 0x7f98a4470850>\n"
          ],
          "name": "stdout"
        }
      ]
    },
    {
      "cell_type": "code",
      "metadata": {
        "id": "zVIGNtR_hci-"
      },
      "source": [
        "#for tweet in tweets:\n",
        "    #print(tweet.text)"
      ],
      "execution_count": null,
      "outputs": []
    },
    {
      "cell_type": "code",
      "metadata": {
        "colab": {
          "base_uri": "https://localhost:8080/",
          "height": 646
        },
        "id": "bXZ0xYtyP9Tq",
        "outputId": "a453e33d-aa89-48c7-b839-74864f2b2d41"
      },
      "source": [
        "# Concatenate the DataFrames and load tweets\n",
        "\n",
        "# Get csv file names in output directory\n",
        "path = os.getcwd() + \"/drive/MyDrive/tweeter1/\"\n",
        "files = os.listdir(path)\n",
        "\n",
        "# Create a list to store DataFrames\n",
        "df_list = []\n",
        "\n",
        "# Iterate over files in output dir and append DataFrames into df_list\n",
        "for file in files:\n",
        "    df = pd.read_csv(path + file, index_col=None)\n",
        "    df_list.append(df)\n",
        "\n",
        "# Create a DataFrame\n",
        "tweets_raw_new = pd.concat(df_list, axis=0, ignore_index=True)\n",
        "\n",
        "# Save the DataFrame as a csv file\n",
        "tweets_raw_new.to_csv(\"tweets_raw_new.csv\")\n",
        "\n",
        "# Load the tweets\n",
        "tweets_raw_new = pd.read_csv(\"tweets_raw_new.csv\")\n",
        "# Display the first five rows\n",
        "display(tweets_raw_new.head())\n",
        "# Print the summary statistics\n",
        "print(tweets_raw_new.describe())\n",
        "# Print the info\n",
        "print(tweets_raw_new.info())"
      ],
      "execution_count": 18,
      "outputs": [
        {
          "output_type": "display_data",
          "data": {
            "text/html": [
              "<div>\n",
              "<style scoped>\n",
              "    .dataframe tbody tr th:only-of-type {\n",
              "        vertical-align: middle;\n",
              "    }\n",
              "\n",
              "    .dataframe tbody tr th {\n",
              "        vertical-align: top;\n",
              "    }\n",
              "\n",
              "    .dataframe thead th {\n",
              "        text-align: right;\n",
              "    }\n",
              "</style>\n",
              "<table border=\"1\" class=\"dataframe\">\n",
              "  <thead>\n",
              "    <tr style=\"text-align: right;\">\n",
              "      <th></th>\n",
              "      <th>Unnamed: 0</th>\n",
              "      <th>Unnamed: 0.1</th>\n",
              "      <th>Content</th>\n",
              "      <th>Location</th>\n",
              "      <th>Username</th>\n",
              "      <th>Retweet-Count</th>\n",
              "      <th>Favorites</th>\n",
              "      <th>Created at</th>\n",
              "    </tr>\n",
              "  </thead>\n",
              "  <tbody>\n",
              "    <tr>\n",
              "      <th>0</th>\n",
              "      <td>0</td>\n",
              "      <td>0</td>\n",
              "      <td>Samoa Joe: “When he wakes up tell him Regal wa...</td>\n",
              "      <td>Im not Bray Wyatt.</td>\n",
              "      <td>Fiend4FolIows</td>\n",
              "      <td>0</td>\n",
              "      <td>0</td>\n",
              "      <td>2021-06-16 00:36:21</td>\n",
              "    </tr>\n",
              "    <tr>\n",
              "      <th>1</th>\n",
              "      <td>1</td>\n",
              "      <td>1</td>\n",
              "      <td>I'm gonna enjoy watching NXT if it means I get...</td>\n",
              "      <td>Swansea, Wales</td>\n",
              "      <td>TheBeanieBoi96</td>\n",
              "      <td>0</td>\n",
              "      <td>0</td>\n",
              "      <td>2021-06-16 00:36:20</td>\n",
              "    </tr>\n",
              "    <tr>\n",
              "      <th>2</th>\n",
              "      <td>2</td>\n",
              "      <td>2</td>\n",
              "      <td>I honestly nearly screamed with joy when Cole ...</td>\n",
              "      <td>Scotland, UK, Europe, Earth</td>\n",
              "      <td>meganpsitn</td>\n",
              "      <td>0</td>\n",
              "      <td>0</td>\n",
              "      <td>2021-06-16 00:36:20</td>\n",
              "    </tr>\n",
              "    <tr>\n",
              "      <th>3</th>\n",
              "      <td>3</td>\n",
              "      <td>3</td>\n",
              "      <td>Samoa Joe taking things to the next level #WWENXT</td>\n",
              "      <td>NaN</td>\n",
              "      <td>AznPanda30</td>\n",
              "      <td>0</td>\n",
              "      <td>0</td>\n",
              "      <td>2021-06-16 00:36:19</td>\n",
              "    </tr>\n",
              "    <tr>\n",
              "      <th>4</th>\n",
              "      <td>4</td>\n",
              "      <td>4</td>\n",
              "      <td>I need a Breezango entrance where they dress a...</td>\n",
              "      <td>Pittsburgh, Pennsylvania</td>\n",
              "      <td>grimmghoul</td>\n",
              "      <td>0</td>\n",
              "      <td>0</td>\n",
              "      <td>2021-06-16 00:36:19</td>\n",
              "    </tr>\n",
              "  </tbody>\n",
              "</table>\n",
              "</div>"
            ],
            "text/plain": [
              "   Unnamed: 0  Unnamed: 0.1  ... Favorites           Created at\n",
              "0           0             0  ...         0  2021-06-16 00:36:21\n",
              "1           1             1  ...         0  2021-06-16 00:36:20\n",
              "2           2             2  ...         0  2021-06-16 00:36:20\n",
              "3           3             3  ...         0  2021-06-16 00:36:19\n",
              "4           4             4  ...         0  2021-06-16 00:36:19\n",
              "\n",
              "[5 rows x 8 columns]"
            ]
          },
          "metadata": {
            "tags": []
          }
        },
        {
          "output_type": "stream",
          "text": [
            "        Unnamed: 0  Unnamed: 0.1  Retweet-Count    Favorites\n",
            "count  2401.000000   2401.000000    2401.000000  2401.000000\n",
            "mean   1200.000000     49.479384       0.780092     4.880883\n",
            "std     693.253321     28.883741      19.449013   157.600211\n",
            "min       0.000000      0.000000       0.000000     0.000000\n",
            "25%     600.000000     24.000000       0.000000     0.000000\n",
            "50%    1200.000000     49.000000       0.000000     0.000000\n",
            "75%    1800.000000     74.000000       0.000000     1.000000\n",
            "max    2400.000000     99.000000     941.000000  7698.000000\n",
            "<class 'pandas.core.frame.DataFrame'>\n",
            "RangeIndex: 2401 entries, 0 to 2400\n",
            "Data columns (total 8 columns):\n",
            " #   Column         Non-Null Count  Dtype \n",
            "---  ------         --------------  ----- \n",
            " 0   Unnamed: 0     2401 non-null   int64 \n",
            " 1   Unnamed: 0.1   2401 non-null   int64 \n",
            " 2   Content        2401 non-null   object\n",
            " 3   Location       1671 non-null   object\n",
            " 4   Username       2401 non-null   object\n",
            " 5   Retweet-Count  2401 non-null   int64 \n",
            " 6   Favorites      2401 non-null   int64 \n",
            " 7   Created at     2401 non-null   object\n",
            "dtypes: int64(4), object(4)\n",
            "memory usage: 150.2+ KB\n",
            "None\n"
          ],
          "name": "stdout"
        }
      ]
    }
  ]
}