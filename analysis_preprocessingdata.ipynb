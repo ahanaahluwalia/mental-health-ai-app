{
  "nbformat": 4,
  "nbformat_minor": 0,
  "metadata": {
    "colab": {
      "name": "analysis_preprocessingdata.ipynb",
      "provenance": [],
      "authorship_tag": "ABX9TyNxCoALkhfD3iEAEBn4f8c7",
      "include_colab_link": true
    },
    "kernelspec": {
      "name": "python3",
      "display_name": "Python 3"
    },
    "language_info": {
      "name": "python"
    }
  },
  "cells": [
    {
      "cell_type": "markdown",
      "metadata": {
        "id": "view-in-github",
        "colab_type": "text"
      },
      "source": [
        "<a href=\"https://colab.research.google.com/github/joudelshawa/mental-health-ai-app/blob/main/analysis_preprocessingdata.ipynb\" target=\"_parent\"><img src=\"https://colab.research.google.com/assets/colab-badge.svg\" alt=\"Open In Colab\"/></a>"
      ]
    },
    {
      "cell_type": "code",
      "metadata": {
        "colab": {
          "base_uri": "https://localhost:8080/"
        },
        "id": "WgdMF9tR6HUO",
        "outputId": "65c40f7b-8f90-4e4b-be40-f7e8fde0d89b"
      },
      "source": [
        "!pip install pycountry"
      ],
      "execution_count": null,
      "outputs": [
        {
          "output_type": "stream",
          "text": [
            "Collecting pycountry\n",
            "\u001b[?25l  Downloading https://files.pythonhosted.org/packages/76/73/6f1a412f14f68c273feea29a6ea9b9f1e268177d32e0e69ad6790d306312/pycountry-20.7.3.tar.gz (10.1MB)\n",
            "\u001b[K     |████████████████████████████████| 10.1MB 7.9MB/s \n",
            "\u001b[?25hBuilding wheels for collected packages: pycountry\n",
            "  Building wheel for pycountry (setup.py) ... \u001b[?25l\u001b[?25hdone\n",
            "  Created wheel for pycountry: filename=pycountry-20.7.3-py2.py3-none-any.whl size=10746883 sha256=4bf1ab0b15b2c1e4b9f004269c740f4d493664430ee4755f64836a69fb5a8fd3\n",
            "  Stored in directory: /root/.cache/pip/wheels/33/4e/a6/be297e6b83567e537bed9df4a93f8590ec01c1acfbcd405348\n",
            "Successfully built pycountry\n",
            "Installing collected packages: pycountry\n",
            "Successfully installed pycountry-20.7.3\n"
          ],
          "name": "stdout"
        }
      ]
    },
    {
      "cell_type": "code",
      "metadata": {
        "colab": {
          "base_uri": "https://localhost:8080/"
        },
        "id": "eGUheNHH6bI0",
        "outputId": "035a293c-8a80-4eef-e8a1-134569fb532c"
      },
      "source": [
        "!pip install nltk"
      ],
      "execution_count": null,
      "outputs": [
        {
          "output_type": "stream",
          "text": [
            "Requirement already satisfied: nltk in /usr/local/lib/python3.7/dist-packages (3.2.5)\n",
            "Requirement already satisfied: six in /usr/local/lib/python3.7/dist-packages (from nltk) (1.15.0)\n"
          ],
          "name": "stdout"
        }
      ]
    },
    {
      "cell_type": "code",
      "metadata": {
        "colab": {
          "base_uri": "https://localhost:8080/"
        },
        "id": "FRhPGMg06guW",
        "outputId": "17034341-aa3b-4e2a-e864-eb0a0d9bea45"
      },
      "source": [
        "!pip install textblob"
      ],
      "execution_count": null,
      "outputs": [
        {
          "output_type": "stream",
          "text": [
            "Requirement already satisfied: textblob in /usr/local/lib/python3.7/dist-packages (0.15.3)\n",
            "Requirement already satisfied: nltk>=3.1 in /usr/local/lib/python3.7/dist-packages (from textblob) (3.2.5)\n",
            "Requirement already satisfied: six in /usr/local/lib/python3.7/dist-packages (from nltk>=3.1->textblob) (1.15.0)\n"
          ],
          "name": "stdout"
        }
      ]
    },
    {
      "cell_type": "code",
      "metadata": {
        "colab": {
          "base_uri": "https://localhost:8080/"
        },
        "id": "FTOfG5FW6pAA",
        "outputId": "bdc89a4d-f483-49a5-b2f3-e3f68a838145"
      },
      "source": [
        "!pip install wordcloud"
      ],
      "execution_count": null,
      "outputs": [
        {
          "output_type": "stream",
          "text": [
            "Traceback (most recent call last):\n",
            "  File \"/usr/local/bin/pip3\", line 8, in <module>\n",
            "    sys.exit(main())\n",
            "  File \"/usr/local/lib/python3.7/dist-packages/pip/_internal/main.py\", line 45, in main\n",
            "    command = create_command(cmd_name, isolated=(\"--isolated\" in cmd_args))\n",
            "  File \"/usr/local/lib/python3.7/dist-packages/pip/_internal/commands/__init__.py\", line 96, in create_command\n",
            "    module = importlib.import_module(module_path)\n",
            "  File \"/usr/lib/python3.7/importlib/__init__.py\", line 127, in import_module\n",
            "    return _bootstrap._gcd_import(name[level:], package, level)\n",
            "  File \"<frozen importlib._bootstrap>\", line 1006, in _gcd_import\n",
            "  File \"<frozen importlib._bootstrap>\", line 983, in _find_and_load\n",
            "  File \"<frozen importlib._bootstrap>\", line 967, in _find_and_load_unlocked\n",
            "  File \"<frozen importlib._bootstrap>\", line 677, in _load_unlocked\n",
            "  File \"<frozen importlib._bootstrap_external>\", line 728, in exec_module\n",
            "  File \"<frozen importlib._bootstrap>\", line 219, in _call_with_frames_removed\n",
            "  File \"/usr/local/lib/python3.7/dist-packages/pip/_internal/commands/install.py\", line 23, in <module>\n",
            "    from pip._internal.cli.req_command import RequirementCommand\n",
            "  File \"/usr/local/lib/python3.7/dist-packages/pip/_internal/cli/req_command.py\", line 20, in <module>\n",
            "    from pip._internal.network.session import PipSession\n",
            "  File \"/usr/local/lib/python3.7/dist-packages/pip/_internal/network/session.py\", line 17, in <module>\n",
            "    from pip._vendor import requests, six, urllib3\n",
            "  File \"/usr/local/lib/python3.7/dist-packages/pip/_vendor/requests/__init__.py\", line 44, in <module>\n",
            "    from pip._vendor import chardet\n",
            "  File \"/usr/local/lib/python3.7/dist-packages/pip/_vendor/chardet/__init__.py\", line 20, in <module>\n",
            "    from .universaldetector import UniversalDetector\n",
            "  File \"/usr/local/lib/python3.7/dist-packages/pip/_vendor/chardet/universaldetector.py\", line 47, in <module>\n",
            "    from .mbcsgroupprober import MBCSGroupProber\n",
            "  File \"/usr/local/lib/python3.7/dist-packages/pip/_vendor/chardet/mbcsgroupprober.py\", line 32, in <module>\n",
            "    from .sjisprober import SJISProber\n",
            "  File \"/usr/local/lib/python3.7/dist-packages/pip/_vendor/chardet/sjisprober.py\", line 30, in <module>\n",
            "    from .chardistribution import SJISDistributionAnalysis\n",
            "  File \"/usr/local/lib/python3.7/dist-packages/pip/_vendor/chardet/chardistribution.py\", line 28, in <module>\n",
            "    from .euctwfreq import (EUCTW_CHAR_TO_FREQ_ORDER, EUCTW_TABLE_SIZE,\n",
            "  File \"<frozen importlib._bootstrap>\", line 983, in _find_and_load\n",
            "  File \"<frozen importlib._bootstrap>\", line 967, in _find_and_load_unlocked\n",
            "  File \"<frozen importlib._bootstrap>\", line 677, in _load_unlocked\n",
            "  File \"<frozen importlib._bootstrap_external>\", line 724, in exec_module\n",
            "  File \"<frozen importlib._bootstrap_external>\", line 857, in get_code\n",
            "  File \"<frozen importlib._bootstrap_external>\", line 525, in _compile_bytecode\n",
            "KeyboardInterrupt\n"
          ],
          "name": "stdout"
        }
      ]
    },
    {
      "cell_type": "code",
      "metadata": {
        "colab": {
          "base_uri": "https://localhost:8080/"
        },
        "id": "aSL3pqsS6wKQ",
        "outputId": "c8ceb656-11aa-428d-cb65-93bd6cc2b303"
      },
      "source": [
        "!pip install scikit-learn\n"
      ],
      "execution_count": null,
      "outputs": [
        {
          "output_type": "stream",
          "text": [
            "Requirement already satisfied: scikit-learn in /usr/local/lib/python3.7/dist-packages (0.22.2.post1)\n",
            "Requirement already satisfied: numpy>=1.11.0 in /usr/local/lib/python3.7/dist-packages (from scikit-learn) (1.19.5)\n",
            "Requirement already satisfied: scipy>=0.17.0 in /usr/local/lib/python3.7/dist-packages (from scikit-learn) (1.4.1)\n",
            "Requirement already satisfied: joblib>=0.11 in /usr/local/lib/python3.7/dist-packages (from scikit-learn) (1.0.1)\n"
          ],
          "name": "stdout"
        }
      ]
    },
    {
      "cell_type": "code",
      "metadata": {
        "id": "WhYyLLts7YBW"
      },
      "source": [
        "import tweepy\n",
        "import pandas as pd\n",
        "import numpy as np\n",
        "import os"
      ],
      "execution_count": 86,
      "outputs": []
    },
    {
      "cell_type": "markdown",
      "metadata": {
        "id": "RXwiREAh8OjM"
      },
      "source": [
        "This will be us. However, I could not find pne. I used that I got from the website."
      ]
    },
    {
      "cell_type": "code",
      "metadata": {
        "id": "2yWEQxhn7g5o"
      },
      "source": [
        "consumer_key = \"mdmzMBrRM2nNnTdEoN7jZuxmY\"\n",
        "consumer_key_secret = \"3D6YYKcs6kheu1VjqZzkHOu9Fu5RBXKYOG947t0PGykr39btce\"\n",
        "access_token = \"525051045-gOq1C7h2YUbz1gFhRuehci0atHZUPwFC5nwlv0VP\"\n",
        "access_token_secret = \"eXvSLyGa9OrzS6R1EiZ86nxvHGpP0RsxelqyVWkxZqmYV\"\n"
      ],
      "execution_count": 87,
      "outputs": []
    },
    {
      "cell_type": "code",
      "metadata": {
        "id": "iui4tNh88NQZ"
      },
      "source": [
        "# Create a hashtags list\n",
        "hashtags = [\"#distancelearning\", \\\n",
        "            \"#onlineschool\",     \\\n",
        "            \"#onlineteaching\",   \\\n",
        "            \"#virtuallearning\",  \\\n",
        "            \"#onlineducation\",   \\\n",
        "            \"#distanceeducation\",\\\n",
        "            \"#OnlineClasses\",    \\\n",
        "            \"#DigitalLearning\",  \\\n",
        "            \"#elearning\",        \\\n",
        "            \"#onlinelearning\"]\n",
        "\n",
        "# Create a search list\n",
        "search_list = [\"distance learning\",  \\\n",
        "               \"online teaching\",    \\\n",
        "               \"online education,\",  \\\n",
        "               \"online course\",      \\\n",
        "               \"online semester\",    \\\n",
        "               \"distance course\",    \\\n",
        "               \"distance education\", \\\n",
        "               \"online class\",       \\\n",
        "               \"e-learning\",         \\\n",
        "               \"e learning\"]\n",
        "\n",
        "\n",
        "# Get the necessary API information from a text file\n",
        "\n",
        "\n",
        "# Setup tweepy with Twitter credentials\n",
        "auth = tweepy.OAuthHandler(consumer_key, consumer_key_secret)\n",
        "auth.set_access_token(access_token, access_token_secret)\n",
        "api = tweepy.API(auth, wait_on_rate_limit=True, wait_on_rate_limit_notify=True)\n",
        "\n",
        "# Define a function to get tweets\n",
        "def get_tweets(search, isHashtag):\n",
        "    \n",
        "    # Create a pandas DataFrame\n",
        "    df_temp = pd.DataFrame(columns=[\"Content\", \"Location\", \"Username\", \"Retweet-Count\", \"Favorites\", \"Created at\"])\n",
        "    \n",
        "    # Get the tweets\n",
        "    tweets = tweepy.Cursor(api.search, q= search+\" -filter:retweets\", lang=\"en\",since=\"2020-08-06\", tweet_mode='extended').items(10)\n",
        "    \n",
        "    # Iterate over tweets\n",
        "    for tweet in tweets:\n",
        "        content = tweet.full_text\n",
        "        username = tweet.user.screen_name\n",
        "        location = tweet.user.location\n",
        "        created_at = tweet.created_at\n",
        "        retweetcount = tweet.retweet_count\n",
        "        favorites = tweet.favorite_count\n",
        "        \n",
        "        # Create a list consists of the features\n",
        "        retrieved = [content, location, username, retweetcount, favorites, created_at]\n",
        "        \n",
        "        # Append list to the DataFrame\n",
        "        df_temp.loc[len(df_temp)] = retrieved\n",
        "        \n",
        "    # Generate unique filename\n",
        "    path = os.getcwd()\n",
        "    \n",
        "    # Generate a filename for hashtags or specific word\n",
        "    if isHashtag:\n",
        "        filename = path + '/drive/MyDrive/tweeter/' + search[1:] + '_hashtag.csv'\n",
        "    else:\n",
        "        filename = path + '/drive/MyDrive/tweeter/' + search.replace(\" \", \"\") + '_wordsearch.csv'\n",
        "    # Save the csv file\n",
        "    df_temp.to_csv(filename)\n",
        "\n",
        "\n",
        "# Call get_tweets function for each hashtag and search word\n",
        "\n",
        "for hashtag in hashtags:\n",
        "    get_tweets(hashtag, isHashtag=True)\n",
        "\n",
        "for search in search_list:\n",
        "    get_tweets(search, isHashtag=False)"
      ],
      "execution_count": 88,
      "outputs": []
    },
    {
      "cell_type": "code",
      "metadata": {
        "id": "Lg2Oc1AULWRd"
      },
      "source": [
        "import pandas as pd\n",
        "import os\n",
        "\n",
        "\n",
        "# Concatenate the DataFrames and save as corpus\n",
        "\n",
        "# Get csv file names in output directory\n",
        "path = os.getcwd() + \"/drive/MyDrive/tweeter/\"\n",
        "files = os.listdir(path)\n",
        "\n",
        "# Create a list to store DataFrames\n",
        "df_list = []\n",
        "\n",
        "# Iterate over files in output dir and append DataFrames into df_list\n",
        "for file in files:\n",
        "    df = pd.read_csv(path + file, index_col=None)\n",
        "    df_list.append(df)\n",
        "\n",
        "# Create a DataFrame\n",
        "tweets_raw = pd.concat(df_list, axis=0, ignore_index=True)\n",
        "\n",
        "# Save the DataFrame as a csv file\n",
        "tweets_raw.to_csv(\"tweets_raw.csv\")"
      ],
      "execution_count": 89,
      "outputs": []
    },
    {
      "cell_type": "code",
      "metadata": {
        "colab": {
          "base_uri": "https://localhost:8080/",
          "height": 629
        },
        "id": "AGa24f2xLhmG",
        "outputId": "5d62bf76-6422-44f3-bbd3-7ce8635e9c82"
      },
      "source": [
        "# Load the tweets\n",
        "tweets_raw = pd.read_csv(\"tweets_raw.csv\")\n",
        "# Display the first five rows\n",
        "display(tweets_raw.head())\n",
        "# Print the summary statistics\n",
        "print(tweets_raw.describe())\n",
        "# Print the info\n",
        "print(tweets_raw.info())"
      ],
      "execution_count": 90,
      "outputs": [
        {
          "output_type": "display_data",
          "data": {
            "text/html": [
              "<div>\n",
              "<style scoped>\n",
              "    .dataframe tbody tr th:only-of-type {\n",
              "        vertical-align: middle;\n",
              "    }\n",
              "\n",
              "    .dataframe tbody tr th {\n",
              "        vertical-align: top;\n",
              "    }\n",
              "\n",
              "    .dataframe thead th {\n",
              "        text-align: right;\n",
              "    }\n",
              "</style>\n",
              "<table border=\"1\" class=\"dataframe\">\n",
              "  <thead>\n",
              "    <tr style=\"text-align: right;\">\n",
              "      <th></th>\n",
              "      <th>Unnamed: 0</th>\n",
              "      <th>Unnamed: 0.1</th>\n",
              "      <th>Content</th>\n",
              "      <th>Location</th>\n",
              "      <th>Username</th>\n",
              "      <th>Retweet-Count</th>\n",
              "      <th>Favorites</th>\n",
              "      <th>Created at</th>\n",
              "    </tr>\n",
              "  </thead>\n",
              "  <tbody>\n",
              "    <tr>\n",
              "      <th>0</th>\n",
              "      <td>0</td>\n",
              "      <td>0</td>\n",
              "      <td>When do you prefer to study?📚💻 Drop a ☀️ or 🌜e...</td>\n",
              "      <td>Cedar City, UT</td>\n",
              "      <td>SUU_Online</td>\n",
              "      <td>1</td>\n",
              "      <td>0</td>\n",
              "      <td>2021-06-09 21:27:05</td>\n",
              "    </tr>\n",
              "    <tr>\n",
              "      <th>1</th>\n",
              "      <td>1</td>\n",
              "      <td>1</td>\n",
              "      <td>Electrical interaction https://t.co/Oebves3oa0...</td>\n",
              "      <td>Россия</td>\n",
              "      <td>jurijkovalenok1</td>\n",
              "      <td>1</td>\n",
              "      <td>3</td>\n",
              "      <td>2021-06-09 21:06:55</td>\n",
              "    </tr>\n",
              "    <tr>\n",
              "      <th>2</th>\n",
              "      <td>2</td>\n",
              "      <td>2</td>\n",
              "      <td>Please join us for a discussion with $ZVO Exec...</td>\n",
              "      <td>NaN</td>\n",
              "      <td>WTR_Research</td>\n",
              "      <td>1</td>\n",
              "      <td>0</td>\n",
              "      <td>2021-06-09 20:28:08</td>\n",
              "    </tr>\n",
              "    <tr>\n",
              "      <th>3</th>\n",
              "      <td>3</td>\n",
              "      <td>3</td>\n",
              "      <td>This crazy, challenging, unique, and beautiful...</td>\n",
              "      <td>NaN</td>\n",
              "      <td>MeganT0804</td>\n",
              "      <td>1</td>\n",
              "      <td>0</td>\n",
              "      <td>2021-06-09 20:12:08</td>\n",
              "    </tr>\n",
              "    <tr>\n",
              "      <th>4</th>\n",
              "      <td>4</td>\n",
              "      <td>4</td>\n",
              "      <td>A reminder as districts begin to prepare for t...</td>\n",
              "      <td>Sanger, CA</td>\n",
              "      <td>kat_goyette</td>\n",
              "      <td>1</td>\n",
              "      <td>0</td>\n",
              "      <td>2021-06-09 20:04:00</td>\n",
              "    </tr>\n",
              "  </tbody>\n",
              "</table>\n",
              "</div>"
            ],
            "text/plain": [
              "   Unnamed: 0  Unnamed: 0.1  ... Favorites           Created at\n",
              "0           0             0  ...         0  2021-06-09 21:27:05\n",
              "1           1             1  ...         3  2021-06-09 21:06:55\n",
              "2           2             2  ...         0  2021-06-09 20:28:08\n",
              "3           3             3  ...         0  2021-06-09 20:12:08\n",
              "4           4             4  ...         0  2021-06-09 20:04:00\n",
              "\n",
              "[5 rows x 8 columns]"
            ]
          },
          "metadata": {
            "tags": []
          }
        },
        {
          "output_type": "stream",
          "text": [
            "       Unnamed: 0  Unnamed: 0.1  Retweet-Count   Favorites\n",
            "count  200.000000    200.000000     200.000000  200.000000\n",
            "mean    99.500000      4.500000       0.295000    0.540000\n",
            "std     57.879185      2.879489       0.678437    1.151097\n",
            "min      0.000000      0.000000       0.000000    0.000000\n",
            "25%     49.750000      2.000000       0.000000    0.000000\n",
            "50%     99.500000      4.500000       0.000000    0.000000\n",
            "75%    149.250000      7.000000       0.000000    1.000000\n",
            "max    199.000000      9.000000       5.000000    9.000000\n",
            "<class 'pandas.core.frame.DataFrame'>\n",
            "RangeIndex: 200 entries, 0 to 199\n",
            "Data columns (total 8 columns):\n",
            " #   Column         Non-Null Count  Dtype \n",
            "---  ------         --------------  ----- \n",
            " 0   Unnamed: 0     200 non-null    int64 \n",
            " 1   Unnamed: 0.1   200 non-null    int64 \n",
            " 2   Content        200 non-null    object\n",
            " 3   Location       168 non-null    object\n",
            " 4   Username       200 non-null    object\n",
            " 5   Retweet-Count  200 non-null    int64 \n",
            " 6   Favorites      200 non-null    int64 \n",
            " 7   Created at     200 non-null    object\n",
            "dtypes: int64(4), object(4)\n",
            "memory usage: 12.6+ KB\n",
            "None\n"
          ],
          "name": "stdout"
        }
      ]
    },
    {
      "cell_type": "code",
      "metadata": {
        "colab": {
          "base_uri": "https://localhost:8080/"
        },
        "id": "gvxNkVyKNkhM",
        "outputId": "0037b215-dacc-44b4-c7ae-f0db79305055"
      },
      "source": [
        "import nltk\n",
        "import re\n",
        "\n",
        "nltk.download('punkt')\n",
        "nltk.download('wordnet')\n",
        "nltk.download('stopwords')\n",
        "\n",
        "\n",
        "# Import word_tokenize and stopwords from nltk\n",
        "from nltk.corpus import stopwords\n",
        "from nltk.tokenize import word_tokenize\n",
        "from nltk.stem import WordNetLemmatizer"
      ],
      "execution_count": 91,
      "outputs": [
        {
          "output_type": "stream",
          "text": [
            "[nltk_data] Downloading package punkt to /root/nltk_data...\n",
            "[nltk_data]   Package punkt is already up-to-date!\n",
            "[nltk_data] Downloading package wordnet to /root/nltk_data...\n",
            "[nltk_data]   Package wordnet is already up-to-date!\n",
            "[nltk_data] Downloading package stopwords to /root/nltk_data...\n",
            "[nltk_data]   Package stopwords is already up-to-date!\n"
          ],
          "name": "stdout"
        }
      ]
    },
    {
      "cell_type": "code",
      "metadata": {
        "colab": {
          "base_uri": "https://localhost:8080/",
          "height": 514
        },
        "id": "aalGDC9rLp3G",
        "outputId": "856c15dc-7a43-40bc-ad76-74ff176ed96e"
      },
      "source": [
        "\n",
        "def process_tweets(tweet):\n",
        "    \n",
        "    # Remove links\n",
        "    tweet = re.sub(r\"http\\S+|www\\S+|https\\S+\", '', tweet, flags=re.MULTILINE)\n",
        "    \n",
        "    # Remove mentions and hashtag\n",
        "    tweet = re.sub(r'\\@\\w+|\\#','', tweet)\n",
        "    \n",
        "    # Tokenize the words\n",
        "    tokenized = word_tokenize(tweet)\n",
        "\n",
        "    # Remove the stop words\n",
        "    tokenized = [token for token in tokenized if token not in stopwords.words('english')] \n",
        "\n",
        "    # Lemmatize the words\n",
        "    lemmatizer = WordNetLemmatizer()\n",
        "    tokenized = [lemmatizer.lemmatize(token, pos='a') for token in tokenized]\n",
        "\n",
        "    # Remove non-alphabetic characters and keep the words contains three or more letters\n",
        "    tokenized = [token for token in tokenized if token.isalpha() and len(token)>2]\n",
        "    \n",
        "    return tokenized\n",
        "    \n",
        "# Call the function and store the result into a new column\n",
        "tweets_raw[\"Processed\"] = tweets_raw[\"Content\"].str.lower().apply(process_tweets)\n",
        "\n",
        "# Print the first fifteen rows of Processed\n",
        "display(tweets_raw[[\"Processed\"]].head(15))"
      ],
      "execution_count": 92,
      "outputs": [
        {
          "output_type": "display_data",
          "data": {
            "text/html": [
              "<div>\n",
              "<style scoped>\n",
              "    .dataframe tbody tr th:only-of-type {\n",
              "        vertical-align: middle;\n",
              "    }\n",
              "\n",
              "    .dataframe tbody tr th {\n",
              "        vertical-align: top;\n",
              "    }\n",
              "\n",
              "    .dataframe thead th {\n",
              "        text-align: right;\n",
              "    }\n",
              "</style>\n",
              "<table border=\"1\" class=\"dataframe\">\n",
              "  <thead>\n",
              "    <tr style=\"text-align: right;\">\n",
              "      <th></th>\n",
              "      <th>Processed</th>\n",
              "    </tr>\n",
              "  </thead>\n",
              "  <tbody>\n",
              "    <tr>\n",
              "      <th>0</th>\n",
              "      <td>[prefer, study, drop, onlinecollege, online, d...</td>\n",
              "    </tr>\n",
              "    <tr>\n",
              "      <th>1</th>\n",
              "      <td>[electrical, interaction, physics, elonmusk, d...</td>\n",
              "    </tr>\n",
              "    <tr>\n",
              "      <th>2</th>\n",
              "      <td>[please, join, discussion, zvo, executive, ope...</td>\n",
              "    </tr>\n",
              "    <tr>\n",
              "      <th>3</th>\n",
              "      <td>[crazy, challenging, unique, beautiful, school...</td>\n",
              "    </tr>\n",
              "    <tr>\n",
              "      <th>4</th>\n",
              "      <td>[reminder, districts, begin, prepare, coming, ...</td>\n",
              "    </tr>\n",
              "    <tr>\n",
              "      <th>5</th>\n",
              "      <td>[newlyrevised, god, wonderful, works, days, cr...</td>\n",
              "    </tr>\n",
              "    <tr>\n",
              "      <th>6</th>\n",
              "      <td>[register, safe, grammar, school, safegrammars...</td>\n",
              "    </tr>\n",
              "    <tr>\n",
              "      <th>7</th>\n",
              "      <td>[quit, job, stay, home, mom, take, care, born,...</td>\n",
              "    </tr>\n",
              "    <tr>\n",
              "      <th>8</th>\n",
              "      <td>[walkingcurriculum, day, noticingnature, math,...</td>\n",
              "    </tr>\n",
              "    <tr>\n",
              "      <th>9</th>\n",
              "      <td>[maluca, emeritus, program, hosted, art, activ...</td>\n",
              "    </tr>\n",
              "    <tr>\n",
              "      <th>10</th>\n",
              "      <td>[accurate, virtuallearning, onlineschool]</td>\n",
              "    </tr>\n",
              "    <tr>\n",
              "      <th>11</th>\n",
              "      <td>[worried, young, child, able, keep, onlinescho...</td>\n",
              "    </tr>\n",
              "    <tr>\n",
              "      <th>12</th>\n",
              "      <td>[stay, healthy, online, school, habits, online...</td>\n",
              "    </tr>\n",
              "    <tr>\n",
              "      <th>13</th>\n",
              "      <td>[register, safe, grammar, school, safegrammars...</td>\n",
              "    </tr>\n",
              "    <tr>\n",
              "      <th>14</th>\n",
              "      <td>[gives, going, green, whole, new, meaning, che...</td>\n",
              "    </tr>\n",
              "  </tbody>\n",
              "</table>\n",
              "</div>"
            ],
            "text/plain": [
              "                                            Processed\n",
              "0   [prefer, study, drop, onlinecollege, online, d...\n",
              "1   [electrical, interaction, physics, elonmusk, d...\n",
              "2   [please, join, discussion, zvo, executive, ope...\n",
              "3   [crazy, challenging, unique, beautiful, school...\n",
              "4   [reminder, districts, begin, prepare, coming, ...\n",
              "5   [newlyrevised, god, wonderful, works, days, cr...\n",
              "6   [register, safe, grammar, school, safegrammars...\n",
              "7   [quit, job, stay, home, mom, take, care, born,...\n",
              "8   [walkingcurriculum, day, noticingnature, math,...\n",
              "9   [maluca, emeritus, program, hosted, art, activ...\n",
              "10          [accurate, virtuallearning, onlineschool]\n",
              "11  [worried, young, child, able, keep, onlinescho...\n",
              "12  [stay, healthy, online, school, habits, online...\n",
              "13  [register, safe, grammar, school, safegrammars...\n",
              "14  [gives, going, green, whole, new, meaning, che..."
            ]
          },
          "metadata": {
            "tags": []
          }
        }
      ]
    },
    {
      "cell_type": "code",
      "metadata": {
        "colab": {
          "base_uri": "https://localhost:8080/",
          "height": 419
        },
        "id": "bwZBcKImRhxy",
        "outputId": "73c5f864-c89a-496e-b6ae-ee0cb87c3802"
      },
      "source": [
        "# Get the tweet lengths\n",
        "tweets_raw[\"Length\"] = tweets_raw[\"Content\"].str.len()\n",
        "# Get the number of words in tweets\n",
        "tweets_raw[\"Words\"] = tweets_raw[\"Content\"].str.split().str.len()\n",
        "# Display the new columns\n",
        "display(tweets_raw[[\"Length\", \"Words\"]])"
      ],
      "execution_count": 93,
      "outputs": [
        {
          "output_type": "display_data",
          "data": {
            "text/html": [
              "<div>\n",
              "<style scoped>\n",
              "    .dataframe tbody tr th:only-of-type {\n",
              "        vertical-align: middle;\n",
              "    }\n",
              "\n",
              "    .dataframe tbody tr th {\n",
              "        vertical-align: top;\n",
              "    }\n",
              "\n",
              "    .dataframe thead th {\n",
              "        text-align: right;\n",
              "    }\n",
              "</style>\n",
              "<table border=\"1\" class=\"dataframe\">\n",
              "  <thead>\n",
              "    <tr style=\"text-align: right;\">\n",
              "      <th></th>\n",
              "      <th>Length</th>\n",
              "      <th>Words</th>\n",
              "    </tr>\n",
              "  </thead>\n",
              "  <tbody>\n",
              "    <tr>\n",
              "      <th>0</th>\n",
              "      <td>187</td>\n",
              "      <td>20</td>\n",
              "    </tr>\n",
              "    <tr>\n",
              "      <th>1</th>\n",
              "      <td>170</td>\n",
              "      <td>14</td>\n",
              "    </tr>\n",
              "    <tr>\n",
              "      <th>2</th>\n",
              "      <td>268</td>\n",
              "      <td>39</td>\n",
              "    </tr>\n",
              "    <tr>\n",
              "      <th>3</th>\n",
              "      <td>209</td>\n",
              "      <td>28</td>\n",
              "    </tr>\n",
              "    <tr>\n",
              "      <th>4</th>\n",
              "      <td>206</td>\n",
              "      <td>21</td>\n",
              "    </tr>\n",
              "    <tr>\n",
              "      <th>...</th>\n",
              "      <td>...</td>\n",
              "      <td>...</td>\n",
              "    </tr>\n",
              "    <tr>\n",
              "      <th>195</th>\n",
              "      <td>287</td>\n",
              "      <td>40</td>\n",
              "    </tr>\n",
              "    <tr>\n",
              "      <th>196</th>\n",
              "      <td>827</td>\n",
              "      <td>86</td>\n",
              "    </tr>\n",
              "    <tr>\n",
              "      <th>197</th>\n",
              "      <td>284</td>\n",
              "      <td>42</td>\n",
              "    </tr>\n",
              "    <tr>\n",
              "      <th>198</th>\n",
              "      <td>303</td>\n",
              "      <td>44</td>\n",
              "    </tr>\n",
              "    <tr>\n",
              "      <th>199</th>\n",
              "      <td>284</td>\n",
              "      <td>41</td>\n",
              "    </tr>\n",
              "  </tbody>\n",
              "</table>\n",
              "<p>200 rows × 2 columns</p>\n",
              "</div>"
            ],
            "text/plain": [
              "     Length  Words\n",
              "0       187     20\n",
              "1       170     14\n",
              "2       268     39\n",
              "3       209     28\n",
              "4       206     21\n",
              "..      ...    ...\n",
              "195     287     40\n",
              "196     827     86\n",
              "197     284     42\n",
              "198     303     44\n",
              "199     284     41\n",
              "\n",
              "[200 rows x 2 columns]"
            ]
          },
          "metadata": {
            "tags": []
          }
        }
      ]
    },
    {
      "cell_type": "code",
      "metadata": {
        "id": "8JgLMtmNRqXP"
      },
      "source": [
        "# Fill the missing values with unknown tag\n",
        "tweets_raw[\"Location\"].fillna(\"unknown\", inplace=True)"
      ],
      "execution_count": 94,
      "outputs": []
    },
    {
      "cell_type": "code",
      "metadata": {
        "colab": {
          "base_uri": "https://localhost:8080/"
        },
        "id": "pBce_f58Rwln",
        "outputId": "dc6e5114-c1d3-4821-9b3c-bad07c775baa"
      },
      "source": [
        "# Print the unique locations and number of unique locations\n",
        "print(\"Unique Values:\",tweets_raw[\"Location\"].unique())\n",
        "print(\"Unique Value count:\",len(tweets_raw[\"Location\"].unique()))"
      ],
      "execution_count": 95,
      "outputs": [
        {
          "output_type": "stream",
          "text": [
            "Unique Values: ['Cedar City, UT' 'Россия' 'unknown' 'Sanger, CA' 'Arlington Heights, IL'\n",
            " 'Cameroon' 'Los Angeles, CA' 'Canada' '26041 Pala, Mission Viejo, CA'\n",
            " 'Tallahassee' 'Mentally in Switzerland ✨' 'SACS CASI Accredited'\n",
            " 'Indiana' 'global' 'India' 'Online and Worldwide' 'United Kingdom'\n",
            " 'Brazil-Canada-Ireland-USA' 'England, United Kingdom' 'Tokyo, Japan'\n",
            " 'United States' 'Atlanta, GA' 'Maryland' 'Philadelphia, PA'\n",
            " 'Global focus' 'Denver, CO' 'Mississauga, Ontario' 'Hyderabad, India'\n",
            " 'Kolkata, India' 'Oldsmar, FL' 'Trivandrum, India' 'Parkland, FL USA'\n",
            " 'kannur' 'Thiruvannmalai' 'Tennessee' 'Worldwide' 'Boulder, CO'\n",
            " 'New Delhi, India' 'world' 'Antigua, Guatemala' 'Croydon, London' 'USA'\n",
            " 'Toronto, Ontario' 'California, USA' 'New York, USA' 'Texas, USA'\n",
            " 'The Capital, Kuwait' 'Haverfordwest' 'Belgium 🍫\\U0001f9c7🍺🍟🎷' 'Monaco '\n",
            " 'Indianapolis, IN' 'Yorkshire and The Humber' 'Austin, TX'\n",
            " 'Glasgow, Scotland' 'Everywhere :)' 'Brownsville, TX' 'San Francisco'\n",
            " 'Baton Rouge, Louisiana' 'Gary, Indiana' 'Bx, Manhattan, SI'\n",
            " 'Vernon Hills, IL' 'Richmond, VA' 'Galway, Ireland' 'Norco, CA'\n",
            " 'Barnet, London' 'Kingdom of Saudi Arabia'\n",
            " 'New York, Paris, San Francisco' 'Minnesota, USA' 'Plano, TX'\n",
            " 'California' 'Silver Spring, MD' 'Richmond, B.C, Canada'\n",
            " 'The Great State of Washington' 'Melbourne, Australia'\n",
            " 'Washoe County, NV' 'Connecting with educators in 117 countries.'\n",
            " 'Orlando, FL' 'Somerville, MA' 'ldn | she/they' 'San Francisco, CA'\n",
            " 'Maryland, USA' 'Germany' 'ur mom' 'North America' 'South Africa'\n",
            " 'Arlington, Texas' 'Manitoba' 'Rawalpindi, Pakistan' \"California Livin' \"\n",
            " 'US, UK, Canada, Kuwait, KSA' 'Boca Raton, FL' 'Lahore, Pakistan'\n",
            " 'United States ' 'Memphis, TN' 'Chillicothe, OH' 'Maple Ridge, BC'\n",
            " 'Everywhere, baby!' 'بلاد إسرائيل لبني إسرائيل ' 'Florida, USA'\n",
            " 'Paris. (Fake Acc. +18)' ', Ontario Canada'\n",
            " 'thay. she/her. 22. pt-br/eng' 'North East, England' 'St. Paul, MN'\n",
            " 'Virginia Beach, VA' 'Essen, Germany ' 'Calgary, AB'\n",
            " 'Burnaby, British Columbia' 'Cambridge, MA' 'Washington, DC'\n",
            " 'Connecticut , USA' 'Massachusetts, USA' 'philadelphia, pa'\n",
            " 'Oklahoma City, OK' 'New York' 'Kansas City, MO' 'On Your Screen/Stereo!'\n",
            " 'University of Toronto' 'Frederick, Maryland' 'Fsd'\n",
            " 'Vancouver, British Columbia' 'Dallas TX ' 'chitral kpk pakistan'\n",
            " 'Lagos, Nigeria' 'Boston, MA' 'Irvine, CA' 'Cleveland, Ohio' 'flavortown'\n",
            " 'St Paul, MN' 'Guilford County NC']\n",
            "Unique Value count: 130\n"
          ],
          "name": "stdout"
        }
      ]
    },
    {
      "cell_type": "code",
      "metadata": {
        "colab": {
          "base_uri": "https://localhost:8080/"
        },
        "id": "Q9uSxFdASDyS",
        "outputId": "456800ff-3637-401b-a885-30afe97d997e"
      },
      "source": [
        "!pip install pycountry"
      ],
      "execution_count": null,
      "outputs": [
        {
          "output_type": "stream",
          "text": [
            "Collecting pycountry\n",
            "\u001b[?25l  Downloading https://files.pythonhosted.org/packages/76/73/6f1a412f14f68c273feea29a6ea9b9f1e268177d32e0e69ad6790d306312/pycountry-20.7.3.tar.gz (10.1MB)\n",
            "\u001b[K     |████████████████████████████████| 10.1MB 3.1MB/s \n",
            "\u001b[?25hBuilding wheels for collected packages: pycountry\n",
            "  Building wheel for pycountry (setup.py) ... \u001b[?25l\u001b[?25hdone\n",
            "  Created wheel for pycountry: filename=pycountry-20.7.3-py2.py3-none-any.whl size=10746883 sha256=9133206a97285354ff03316d8e6872d4c40b2e0d28d8bfb4c392e5b93e3a719b\n",
            "  Stored in directory: /root/.cache/pip/wheels/33/4e/a6/be297e6b83567e537bed9df4a93f8590ec01c1acfbcd405348\n",
            "Successfully built pycountry\n",
            "Installing collected packages: pycountry\n",
            "Successfully installed pycountry-20.7.3\n"
          ],
          "name": "stdout"
        }
      ]
    },
    {
      "cell_type": "code",
      "metadata": {
        "colab": {
          "base_uri": "https://localhost:8080/"
        },
        "id": "WybJasTER3Jz",
        "outputId": "c70e3480-0b40-45e8-965a-8ec364824917"
      },
      "source": [
        "# Import pycountry\n",
        "import pycountry\n",
        "\n",
        "def get_countries(location):\n",
        "    \n",
        "    # If location is a country name return its alpha2 code\n",
        "    if pycountry.countries.get(name= location):\n",
        "        return pycountry.countries.get(name = location).alpha_2\n",
        "    \n",
        "    # If location is a subdivisions name return the countries alpha2 code\n",
        "    try:\n",
        "        pycountry.subdivisions.lookup(location)\n",
        "        return pycountry.subdivisions.lookup(location).country_code\n",
        "    except:\n",
        "        # If the location is neither country nor subdivision return the \"unknown\" tag\n",
        "        return \"unknown\"\n",
        "\n",
        "# Call the function and store the country codes in the Country column\n",
        "tweets_raw[\"Country\"] = tweets_raw[\"Location\"].apply(get_countries)\n",
        "\n",
        "# Print the unique values\n",
        "print(tweets_raw[\"Country\"].unique())\n",
        "\n",
        "# Print the number of unique values\n",
        "print(\"Number of unique values:\",len(tweets_raw[\"Country\"].unique()))"
      ],
      "execution_count": 96,
      "outputs": [
        {
          "output_type": "stream",
          "text": [
            "['unknown' 'CM' 'CA' 'US' 'IN' 'GB' 'LR' 'DE' 'ZA']\n",
            "Number of unique values: 9\n"
          ],
          "name": "stdout"
        }
      ]
    },
    {
      "cell_type": "code",
      "metadata": {
        "colab": {
          "base_uri": "https://localhost:8080/",
          "height": 111
        },
        "id": "emvJRICqSOc3",
        "outputId": "1ec53090-50b3-4da9-95fb-334474fdb6e4"
      },
      "source": [
        "# Display the most popular tweets\n",
        "display(tweets_raw.sort_values(by=[\"Favorites\",\"Retweet-Count\", ], axis=0, ascending=False)[[\"Content\",\"Retweet-Count\",\"Favorites\"]].head(2))"
      ],
      "execution_count": 97,
      "outputs": [
        {
          "output_type": "display_data",
          "data": {
            "text/html": [
              "<div>\n",
              "<style scoped>\n",
              "    .dataframe tbody tr th:only-of-type {\n",
              "        vertical-align: middle;\n",
              "    }\n",
              "\n",
              "    .dataframe tbody tr th {\n",
              "        vertical-align: top;\n",
              "    }\n",
              "\n",
              "    .dataframe thead th {\n",
              "        text-align: right;\n",
              "    }\n",
              "</style>\n",
              "<table border=\"1\" class=\"dataframe\">\n",
              "  <thead>\n",
              "    <tr style=\"text-align: right;\">\n",
              "      <th></th>\n",
              "      <th>Content</th>\n",
              "      <th>Retweet-Count</th>\n",
              "      <th>Favorites</th>\n",
              "    </tr>\n",
              "  </thead>\n",
              "  <tbody>\n",
              "    <tr>\n",
              "      <th>159</th>\n",
              "      <td>*stares off into the distance* of course hua c...</td>\n",
              "      <td>0</td>\n",
              "      <td>9</td>\n",
              "    </tr>\n",
              "    <tr>\n",
              "      <th>57</th>\n",
              "      <td>The 2021 CHLOE 6 report, authored by @QMProgra...</td>\n",
              "      <td>3</td>\n",
              "      <td>8</td>\n",
              "    </tr>\n",
              "  </tbody>\n",
              "</table>\n",
              "</div>"
            ],
            "text/plain": [
              "                                               Content  ...  Favorites\n",
              "159  *stares off into the distance* of course hua c...  ...          9\n",
              "57   The 2021 CHLOE 6 report, authored by @QMProgra...  ...          8\n",
              "\n",
              "[2 rows x 3 columns]"
            ]
          },
          "metadata": {
            "tags": []
          }
        }
      ]
    },
    {
      "cell_type": "code",
      "metadata": {
        "id": "uxxcXO6Ru9bZ"
      },
      "source": [
        "# Save the processed data as a csv file\n",
        "tweets_raw.to_csv(\"tweets_processed.csv\")\n",
        "# Load the processed DataFrame\n",
        "tweets_processed = pd.read_csv(\"tweets_processed.csv\", parse_dates=[\"Created at\"])"
      ],
      "execution_count": 98,
      "outputs": []
    },
    {
      "cell_type": "code",
      "metadata": {
        "colab": {
          "base_uri": "https://localhost:8080/",
          "height": 114
        },
        "id": "RnvZerJgqgz1",
        "outputId": "a93af3ce-5b1a-4672-ca97-d688b08d37c2"
      },
      "source": [
        "#We can use different code here\n",
        "# Create our contextual stop words\n",
        "#tfidf_stops = [\"online\",\"class\",\"course\",\"learning\",\"learn\",\"teach\",\"teaching\",\"distance\",\"distancelearning\",\"education\",\"teacher\",\"student\",\"grade\",\"classes\",\"computer\",\"onlineeducation\",\"onlinelearning\", \"school\", \"students\",\"class\",\"virtual\",\"eschool\",\\ \"virtuallearning\", \"educated\", \"educates\", \"teaches\", \"studies\",\"study\", \"semester\", \"elearning\",\"teachers\", \"lecturer\", \"lecture\", \"amp\",\"academic\", \"admission\", \"academician\", \"account\", \"action\" ,\"add\", \"app\", \"announcement\", \"application\", \"adult\", \"classroom\", \"system\", \"video\", \"essay\", \"homework\",\"work\",\"assignment\",\"paper\",\"get\", \"math\", \"project\", \"science\", \"physics\", \"lesson\",\"courses\",\"assignments\", \"know\", \"instruction\",\"email\", \"discussion\",\"home\",\"college\",\"exam\"\"use\",\"fall\",\"term\",\"proposal\",\"one\",\"review\",\"proposal\", \"calculus\", \"search\", \"research\", \"algebra\"]\n",
        "# Initialize a Tf-idf Vectorizer\n",
        "from sklearn.feature_extraction.text import TfidfVectorizer\n",
        "vectorizer = TfidfVectorizer(max_features=5000, stop_words= stopwords.words('english'))\n",
        "# Fit and transform the vectorizer\n",
        "tfidf_matrix = vectorizer.fit_transform(tweets_processed[[\"Processed\"]])\n",
        "# Let's see what we have\n",
        "display(tfidf_matrix)\n",
        "# Create a DataFrame for tf-idf vectors and display the first rows\n",
        "tfidf_df = pd.DataFrame(tfidf_matrix.toarray(), columns= vectorizer.get_feature_names())\n",
        "display(tfidf_df.head())"
      ],
      "execution_count": 53,
      "outputs": [
        {
          "output_type": "display_data",
          "data": {
            "text/plain": [
              "<1x1 sparse matrix of type '<class 'numpy.float64'>'\n",
              "\twith 1 stored elements in Compressed Sparse Row format>"
            ]
          },
          "metadata": {
            "tags": []
          }
        },
        {
          "output_type": "display_data",
          "data": {
            "text/html": [
              "<div>\n",
              "<style scoped>\n",
              "    .dataframe tbody tr th:only-of-type {\n",
              "        vertical-align: middle;\n",
              "    }\n",
              "\n",
              "    .dataframe tbody tr th {\n",
              "        vertical-align: top;\n",
              "    }\n",
              "\n",
              "    .dataframe thead th {\n",
              "        text-align: right;\n",
              "    }\n",
              "</style>\n",
              "<table border=\"1\" class=\"dataframe\">\n",
              "  <thead>\n",
              "    <tr style=\"text-align: right;\">\n",
              "      <th></th>\n",
              "      <th>processed</th>\n",
              "    </tr>\n",
              "  </thead>\n",
              "  <tbody>\n",
              "    <tr>\n",
              "      <th>0</th>\n",
              "      <td>1.0</td>\n",
              "    </tr>\n",
              "  </tbody>\n",
              "</table>\n",
              "</div>"
            ],
            "text/plain": [
              "   processed\n",
              "0        1.0"
            ]
          },
          "metadata": {
            "tags": []
          }
        }
      ]
    },
    {
      "cell_type": "code",
      "metadata": {
        "colab": {
          "base_uri": "https://localhost:8080/"
        },
        "id": "3r7SkG57vst_",
        "outputId": "51193c97-6cae-4ceb-8dbc-ea9e33200f0b"
      },
      "source": [
        "# Print the value counts of Country column\n",
        "print(tweets_processed[\"Country\"].value_counts())"
      ],
      "execution_count": 99,
      "outputs": [
        {
          "output_type": "stream",
          "text": [
            "unknown    178\n",
            "US           9\n",
            "CA           4\n",
            "CM           3\n",
            "GB           2\n",
            "DE           1\n",
            "IN           1\n",
            "ZA           1\n",
            "LR           1\n",
            "Name: Country, dtype: int64\n"
          ],
          "name": "stdout"
        }
      ]
    },
    {
      "cell_type": "code",
      "metadata": {
        "id": "7LIYgVzwvuva"
      },
      "source": [
        "# We need to exclude unknowns\n",
        "countries = tweets_processed[tweets_processed.Country!='unknown']\n",
        "\n",
        "# Select the top 20 countries\n",
        "top_countries = countries[\"Country\"].value_counts(sort=True).head(20)\n",
        "\n",
        "# Convert alpha2 country codes to country names and store in a list\n",
        "country_fullnames = []\n",
        "for alpha2 in top_countries.index:\n",
        "    country_fullnames.append(pycountry.countries.get(alpha_2=alpha2).name)"
      ],
      "execution_count": 100,
      "outputs": []
    },
    {
      "cell_type": "code",
      "metadata": {
        "colab": {
          "base_uri": "https://localhost:8080/",
          "height": 80
        },
        "id": "5awv9ukCv4sP",
        "outputId": "9c10231a-a3e3-4dc1-dfc2-94a9fd124e67"
      },
      "source": [
        "# Display the most popular tweets\n",
        "display(tweets_processed.sort_values(by=[\"Favorites\",\"Retweet-Count\", ], axis=0, ascending=False)[[\"Content\",\"Retweet-Count\",\"Favorites\"]].head(1))"
      ],
      "execution_count": 101,
      "outputs": [
        {
          "output_type": "display_data",
          "data": {
            "text/html": [
              "<div>\n",
              "<style scoped>\n",
              "    .dataframe tbody tr th:only-of-type {\n",
              "        vertical-align: middle;\n",
              "    }\n",
              "\n",
              "    .dataframe tbody tr th {\n",
              "        vertical-align: top;\n",
              "    }\n",
              "\n",
              "    .dataframe thead th {\n",
              "        text-align: right;\n",
              "    }\n",
              "</style>\n",
              "<table border=\"1\" class=\"dataframe\">\n",
              "  <thead>\n",
              "    <tr style=\"text-align: right;\">\n",
              "      <th></th>\n",
              "      <th>Content</th>\n",
              "      <th>Retweet-Count</th>\n",
              "      <th>Favorites</th>\n",
              "    </tr>\n",
              "  </thead>\n",
              "  <tbody>\n",
              "    <tr>\n",
              "      <th>159</th>\n",
              "      <td>*stares off into the distance* of course hua c...</td>\n",
              "      <td>0</td>\n",
              "      <td>9</td>\n",
              "    </tr>\n",
              "  </tbody>\n",
              "</table>\n",
              "</div>"
            ],
            "text/plain": [
              "                                               Content  ...  Favorites\n",
              "159  *stares off into the distance* of course hua c...  ...          9\n",
              "\n",
              "[1 rows x 3 columns]"
            ]
          },
          "metadata": {
            "tags": []
          }
        }
      ]
    },
    {
      "cell_type": "code",
      "metadata": {
        "colab": {
          "base_uri": "https://localhost:8080/",
          "height": 80
        },
        "id": "OElmk8qawAOf",
        "outputId": "513ec3d2-77e3-4a13-aada-b8eb74667433"
      },
      "source": [
        "# Create a new DataFrame called frequencies\n",
        "frequencies = pd.DataFrame(tfidf_matrix.sum(axis=0).T,index=vectorizer.get_feature_names(),columns=['total frequency'])\n",
        "# Display the most 20 frequent words\n",
        "display(frequencies.sort_values(by='total frequency',ascending=False).head(20))"
      ],
      "execution_count": 102,
      "outputs": [
        {
          "output_type": "display_data",
          "data": {
            "text/html": [
              "<div>\n",
              "<style scoped>\n",
              "    .dataframe tbody tr th:only-of-type {\n",
              "        vertical-align: middle;\n",
              "    }\n",
              "\n",
              "    .dataframe tbody tr th {\n",
              "        vertical-align: top;\n",
              "    }\n",
              "\n",
              "    .dataframe thead th {\n",
              "        text-align: right;\n",
              "    }\n",
              "</style>\n",
              "<table border=\"1\" class=\"dataframe\">\n",
              "  <thead>\n",
              "    <tr style=\"text-align: right;\">\n",
              "      <th></th>\n",
              "      <th>total frequency</th>\n",
              "    </tr>\n",
              "  </thead>\n",
              "  <tbody>\n",
              "    <tr>\n",
              "      <th>processed</th>\n",
              "      <td>1.0</td>\n",
              "    </tr>\n",
              "  </tbody>\n",
              "</table>\n",
              "</div>"
            ],
            "text/plain": [
              "           total frequency\n",
              "processed              1.0"
            ]
          },
          "metadata": {
            "tags": []
          }
        }
      ]
    },
    {
      "cell_type": "code",
      "metadata": {
        "colab": {
          "base_uri": "https://localhost:8080/"
        },
        "id": "GbRa9gyawQXd",
        "outputId": "2077f27e-780d-4c39-eee6-f8b4c0ba1fc7"
      },
      "source": [
        "!pip install textblob      #for installation\n",
        "\n",
        "import textblob            #to import\n",
        "from textblob import TextBlob\n"
      ],
      "execution_count": 67,
      "outputs": [
        {
          "output_type": "stream",
          "text": [
            "Requirement already satisfied: textblob in /usr/local/lib/python3.7/dist-packages (0.15.3)\n",
            "Requirement already satisfied: nltk>=3.1 in /usr/local/lib/python3.7/dist-packages (from textblob) (3.2.5)\n",
            "Requirement already satisfied: six in /usr/local/lib/python3.7/dist-packages (from nltk>=3.1->textblob) (1.15.0)\n"
          ],
          "name": "stdout"
        }
      ]
    },
    {
      "cell_type": "code",
      "metadata": {
        "colab": {
          "base_uri": "https://localhost:8080/",
          "height": 359
        },
        "id": "ESgbDCSZwNuu",
        "outputId": "5b44afc6-5e65-4a15-c690-7792f1ba75af"
      },
      "source": [
        "# Add polarities and subkectivities into the DataFrame by using TextBlob\n",
        "tweets_processed[\"Polarity\"] = tweets_processed[\"Processed\"].apply(lambda word:TextBlob(word).sentiment.polarity)\n",
        "tweets_processed[\"Subjectivity\"] = tweets_processed[\"Processed\"].apply(lambda word:TextBlob(word).sentiment.subjectivity)\n",
        "\n",
        "# Display the Polarity and Subjectivity columns\n",
        "display(tweets_processed[[\"Polarity\",\"Subjectivity\"]].head(10))"
      ],
      "execution_count": 103,
      "outputs": [
        {
          "output_type": "display_data",
          "data": {
            "text/html": [
              "<div>\n",
              "<style scoped>\n",
              "    .dataframe tbody tr th:only-of-type {\n",
              "        vertical-align: middle;\n",
              "    }\n",
              "\n",
              "    .dataframe tbody tr th {\n",
              "        vertical-align: top;\n",
              "    }\n",
              "\n",
              "    .dataframe thead th {\n",
              "        text-align: right;\n",
              "    }\n",
              "</style>\n",
              "<table border=\"1\" class=\"dataframe\">\n",
              "  <thead>\n",
              "    <tr style=\"text-align: right;\">\n",
              "      <th></th>\n",
              "      <th>Polarity</th>\n",
              "      <th>Subjectivity</th>\n",
              "    </tr>\n",
              "  </thead>\n",
              "  <tbody>\n",
              "    <tr>\n",
              "      <th>0</th>\n",
              "      <td>0.000000</td>\n",
              "      <td>0.000000</td>\n",
              "    </tr>\n",
              "    <tr>\n",
              "      <th>1</th>\n",
              "      <td>0.100000</td>\n",
              "      <td>0.400000</td>\n",
              "    </tr>\n",
              "    <tr>\n",
              "      <th>2</th>\n",
              "      <td>0.000000</td>\n",
              "      <td>0.500000</td>\n",
              "    </tr>\n",
              "    <tr>\n",
              "      <th>3</th>\n",
              "      <td>0.245000</td>\n",
              "      <td>0.856667</td>\n",
              "    </tr>\n",
              "    <tr>\n",
              "      <th>4</th>\n",
              "      <td>0.000000</td>\n",
              "      <td>0.000000</td>\n",
              "    </tr>\n",
              "    <tr>\n",
              "      <th>5</th>\n",
              "      <td>0.500000</td>\n",
              "      <td>0.550000</td>\n",
              "    </tr>\n",
              "    <tr>\n",
              "      <th>6</th>\n",
              "      <td>0.500000</td>\n",
              "      <td>0.500000</td>\n",
              "    </tr>\n",
              "    <tr>\n",
              "      <th>7</th>\n",
              "      <td>-0.133333</td>\n",
              "      <td>0.588889</td>\n",
              "    </tr>\n",
              "    <tr>\n",
              "      <th>8</th>\n",
              "      <td>0.000000</td>\n",
              "      <td>0.000000</td>\n",
              "    </tr>\n",
              "    <tr>\n",
              "      <th>9</th>\n",
              "      <td>0.000000</td>\n",
              "      <td>0.000000</td>\n",
              "    </tr>\n",
              "  </tbody>\n",
              "</table>\n",
              "</div>"
            ],
            "text/plain": [
              "   Polarity  Subjectivity\n",
              "0  0.000000      0.000000\n",
              "1  0.100000      0.400000\n",
              "2  0.000000      0.500000\n",
              "3  0.245000      0.856667\n",
              "4  0.000000      0.000000\n",
              "5  0.500000      0.550000\n",
              "6  0.500000      0.500000\n",
              "7 -0.133333      0.588889\n",
              "8  0.000000      0.000000\n",
              "9  0.000000      0.000000"
            ]
          },
          "metadata": {
            "tags": []
          }
        }
      ]
    },
    {
      "cell_type": "code",
      "metadata": {
        "colab": {
          "base_uri": "https://localhost:8080/",
          "height": 359
        },
        "id": "YNXebOc9xVHv",
        "outputId": "dd25bf22-9cd4-4394-8658-41b842c47f2b"
      },
      "source": [
        "# Define a function to classify polarities\n",
        "def analyse_polarity(polarity):\n",
        "    if polarity > 0:\n",
        "        return \"Positive\"\n",
        "    if polarity == 0:\n",
        "        return \"Neutral\"\n",
        "    if polarity < 0:\n",
        "        return \"Negative\"\n",
        "\n",
        "# Apply the funtion on Polarity column and add the results into a new column\n",
        "tweets_processed[\"Polarity Scores\"] = tweets_processed[\"Polarity\"].apply(analyse_polarity)\n",
        "\n",
        "# Display the Polarity and Subjectivity Analysis\n",
        "display(tweets_processed[[\"Polarity Scores\"]].head(10))"
      ],
      "execution_count": 104,
      "outputs": [
        {
          "output_type": "display_data",
          "data": {
            "text/html": [
              "<div>\n",
              "<style scoped>\n",
              "    .dataframe tbody tr th:only-of-type {\n",
              "        vertical-align: middle;\n",
              "    }\n",
              "\n",
              "    .dataframe tbody tr th {\n",
              "        vertical-align: top;\n",
              "    }\n",
              "\n",
              "    .dataframe thead th {\n",
              "        text-align: right;\n",
              "    }\n",
              "</style>\n",
              "<table border=\"1\" class=\"dataframe\">\n",
              "  <thead>\n",
              "    <tr style=\"text-align: right;\">\n",
              "      <th></th>\n",
              "      <th>Polarity Scores</th>\n",
              "    </tr>\n",
              "  </thead>\n",
              "  <tbody>\n",
              "    <tr>\n",
              "      <th>0</th>\n",
              "      <td>Neutral</td>\n",
              "    </tr>\n",
              "    <tr>\n",
              "      <th>1</th>\n",
              "      <td>Positive</td>\n",
              "    </tr>\n",
              "    <tr>\n",
              "      <th>2</th>\n",
              "      <td>Neutral</td>\n",
              "    </tr>\n",
              "    <tr>\n",
              "      <th>3</th>\n",
              "      <td>Positive</td>\n",
              "    </tr>\n",
              "    <tr>\n",
              "      <th>4</th>\n",
              "      <td>Neutral</td>\n",
              "    </tr>\n",
              "    <tr>\n",
              "      <th>5</th>\n",
              "      <td>Positive</td>\n",
              "    </tr>\n",
              "    <tr>\n",
              "      <th>6</th>\n",
              "      <td>Positive</td>\n",
              "    </tr>\n",
              "    <tr>\n",
              "      <th>7</th>\n",
              "      <td>Negative</td>\n",
              "    </tr>\n",
              "    <tr>\n",
              "      <th>8</th>\n",
              "      <td>Neutral</td>\n",
              "    </tr>\n",
              "    <tr>\n",
              "      <th>9</th>\n",
              "      <td>Neutral</td>\n",
              "    </tr>\n",
              "  </tbody>\n",
              "</table>\n",
              "</div>"
            ],
            "text/plain": [
              "  Polarity Scores\n",
              "0         Neutral\n",
              "1        Positive\n",
              "2         Neutral\n",
              "3        Positive\n",
              "4         Neutral\n",
              "5        Positive\n",
              "6        Positive\n",
              "7        Negative\n",
              "8         Neutral\n",
              "9         Neutral"
            ]
          },
          "metadata": {
            "tags": []
          }
        }
      ]
    },
    {
      "cell_type": "code",
      "metadata": {
        "colab": {
          "base_uri": "https://localhost:8080/"
        },
        "id": "siQVXEdexc72",
        "outputId": "b90baf2f-86e9-415b-aeb3-9ef65eac4451"
      },
      "source": [
        "# Print the value counts of the Label column\n",
        "print(tweets_processed[[\"Polarity Scores\"]].value_counts())\n",
        "#print(tweets_processed.rename(columns={'Label':'Polarity Scores'}, inplace=True))\n",
        "#This is the Label"
      ],
      "execution_count": 111,
      "outputs": [
        {
          "output_type": "stream",
          "text": [
            "Polarity Scores\n",
            "Positive           108\n",
            "Neutral             68\n",
            "Negative            24\n",
            "dtype: int64\n"
          ],
          "name": "stdout"
        }
      ]
    },
    {
      "cell_type": "code",
      "metadata": {
        "colab": {
          "base_uri": "https://localhost:8080/"
        },
        "id": "ERm380X5-DmR",
        "outputId": "8c02dd52-5fde-4247-d4a7-7542b6eda2db"
      },
      "source": [
        "from google.colab import drive\n",
        "drive.mount('/content/drive')"
      ],
      "execution_count": null,
      "outputs": [
        {
          "output_type": "stream",
          "text": [
            "Mounted at /content/drive\n"
          ],
          "name": "stdout"
        }
      ]
    }
  ]
}