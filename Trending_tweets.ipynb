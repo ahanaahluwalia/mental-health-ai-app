{
  "nbformat": 4,
  "nbformat_minor": 0,
  "metadata": {
    "colab": {
      "name": "Trending_tweets.ipynb",
      "provenance": [],
      "authorship_tag": "ABX9TyNuq1DwVWYG+3hvvcOSHzt3",
      "include_colab_link": true
    },
    "kernelspec": {
      "name": "python3",
      "display_name": "Python 3"
    },
    "language_info": {
      "name": "python"
    }
  },
  "cells": [
    {
      "cell_type": "markdown",
      "metadata": {
        "id": "view-in-github",
        "colab_type": "text"
      },
      "source": [
        "<a href=\"https://colab.research.google.com/github/joudelshawa/mental-health-ai-app/blob/feature%2Fdata_preprocessing/Trending_tweets.ipynb\" target=\"_parent\"><img src=\"https://colab.research.google.com/assets/colab-badge.svg\" alt=\"Open In Colab\"/></a>"
      ]
    },
    {
      "cell_type": "code",
      "metadata": {
        "id": "CqVJZCJW_T3t"
      },
      "source": [
        "#import library\n",
        "import tweepy\n",
        "import pandas as pd\n",
        "import numpy as np\n",
        "import os\n",
        "import pandas as pd\n",
        "import json"
      ],
      "execution_count": 17,
      "outputs": []
    },
    {
      "cell_type": "code",
      "metadata": {
        "id": "Hmvc5vLQCpp4"
      },
      "source": [
        "# Get the necessary API information \n",
        "consumer_key = \"mdmzMBrRM2nNnTdEoN7jZuxmY\"\n",
        "consumer_key_secret = \"3D6YYKcs6kheu1VjqZzkHOu9Fu5RBXKYOG947t0PGykr39btce\"\n",
        "access_token = \"525051045-gOq1C7h2YUbz1gFhRuehci0atHZUPwFC5nwlv0VP\"\n",
        "access_token_secret = \"eXvSLyGa9OrzS6R1EiZ86nxvHGpP0RsxelqyVWkxZqmYV\""
      ],
      "execution_count": 18,
      "outputs": []
    },
    {
      "cell_type": "code",
      "metadata": {
        "id": "KgVNMl0SC64C"
      },
      "source": [
        "# authorization of consumer key and consumer secret\n",
        "auth = tweepy.OAuthHandler(consumer_key, consumer_key_secret)\n",
        "  \n",
        "# set access to user's access key and access secret \n",
        "auth.set_access_token(access_token, access_token_secret)\n",
        "  \n",
        "# calling the api \n",
        "api = tweepy.API(auth)\n",
        "  \n",
        "# WOEID of London\n",
        "woeid = 44418\n",
        "  \n",
        "# fetching the trends\n",
        "trends = api.trends_place(id = woeid)"
      ],
      "execution_count": 47,
      "outputs": []
    },
    {
      "cell_type": "code",
      "metadata": {
        "colab": {
          "base_uri": "https://localhost:8080/"
        },
        "id": "joFbmrfGZsCK",
        "outputId": "83ab1414-2717-4b93-9f17-6ca57bdd1848"
      },
      "source": [
        "trends = json.loads(json.dumps(trends, indent=1))\n",
        " \n",
        "for trend in trends[0]['trends']:\n",
        "\tprint(trend['name'])"
      ],
      "execution_count": 29,
      "outputs": [
        {
          "output_type": "stream",
          "text": [
            "Parliament\n",
            "#EnoughIsEnough\n",
            "House of Commons\n",
            "#laiout\n",
            "#LonelinessAwarenessWeek\n",
            "Soucek\n",
            "Goal of the Tournament\n",
            "Prince of Thieves\n",
            "#에이티즈\n",
            "#BanLiveExports\n",
            "Delta\n",
            "NATO\n",
            "Freedom Day\n",
            "Scotland\n",
            "Schick\n",
            "Marshall\n",
            "O'Donnell\n",
            "Clarke\n",
            "Czech\n",
            "Patterson\n",
            "Dykes\n",
            "Adams\n",
            "Poland\n",
            "Hendry\n",
            "Emma Hayes\n",
            "Forrest\n",
            "Christie\n",
            "Robertson\n",
            "Speaker\n",
            "Hoyle\n",
            "McTominay\n",
            "Armstrong\n",
            "Szczesny\n",
            "Tierney\n",
            "Adrian\n",
            "Bercow\n",
            "McGregor\n",
            "McGinn\n",
            "Lewandowski\n",
            "Turnbull\n",
            "Scots\n",
            "Priti Patel\n",
            "WHAT A GOAL\n",
            "Nisbet\n",
            "Kelleher\n",
            "Hamsik\n",
            "Darren Fletcher\n",
            "YouGov\n",
            "Hanley\n",
            "Robbo\n"
          ],
          "name": "stdout"
        }
      ]
    },
    {
      "cell_type": "code",
      "metadata": {
        "colab": {
          "base_uri": "https://localhost:8080/"
        },
        "id": "XPBi4kUwapuQ",
        "outputId": "7bbf30be-defa-492e-eb71-2ac2370be191"
      },
      "source": [
        "[x for x in trends[0]['trends'] if x['name'].find('#') ==0]"
      ],
      "execution_count": 35,
      "outputs": [
        {
          "output_type": "execute_result",
          "data": {
            "text/plain": [
              "[{'name': '#EnoughIsEnough',\n",
              "  'promoted_content': None,\n",
              "  'query': '%23EnoughIsEnough',\n",
              "  'tweet_volume': 24038,\n",
              "  'url': 'http://twitter.com/search?q=%23EnoughIsEnough'},\n",
              " {'name': '#laiout',\n",
              "  'promoted_content': None,\n",
              "  'query': '%23laiout',\n",
              "  'tweet_volume': None,\n",
              "  'url': 'http://twitter.com/search?q=%23laiout'},\n",
              " {'name': '#LonelinessAwarenessWeek',\n",
              "  'promoted_content': None,\n",
              "  'query': '%23LonelinessAwarenessWeek',\n",
              "  'tweet_volume': None,\n",
              "  'url': 'http://twitter.com/search?q=%23LonelinessAwarenessWeek'},\n",
              " {'name': '#에이티즈',\n",
              "  'promoted_content': None,\n",
              "  'query': '%23%EC%97%90%EC%9D%B4%ED%8B%B0%EC%A6%88',\n",
              "  'tweet_volume': 351386,\n",
              "  'url': 'http://twitter.com/search?q=%23%EC%97%90%EC%9D%B4%ED%8B%B0%EC%A6%88'},\n",
              " {'name': '#BanLiveExports',\n",
              "  'promoted_content': None,\n",
              "  'query': '%23BanLiveExports',\n",
              "  'tweet_volume': 41395,\n",
              "  'url': 'http://twitter.com/search?q=%23BanLiveExports'}]"
            ]
          },
          "metadata": {
            "tags": []
          },
          "execution_count": 35
        }
      ]
    },
    {
      "cell_type": "code",
      "metadata": {
        "id": "7aTLD9QqdUlG"
      },
      "source": [
        "search_name=\"#EnoughIsEnough\"\n",
        "tweets = tweepy.Cursor(api.search,\n",
        "                   q=search_name,\n",
        "                   lang=\"en\",\n",
        "                   result_type=\"recent\"\n",
        "                   ).items(2)"
      ],
      "execution_count": 69,
      "outputs": []
    },
    {
      "cell_type": "code",
      "metadata": {
        "colab": {
          "base_uri": "https://localhost:8080/"
        },
        "id": "yzUDrjCiguQx",
        "outputId": "619af757-f58a-4b9d-cdfd-6ed1ab70496b"
      },
      "source": [
        "print(tweets)"
      ],
      "execution_count": 57,
      "outputs": [
        {
          "output_type": "stream",
          "text": [
            "<tweepy.cursor.Cursor object at 0x7f98a4470850>\n"
          ],
          "name": "stdout"
        }
      ]
    },
    {
      "cell_type": "code",
      "metadata": {
        "colab": {
          "base_uri": "https://localhost:8080/"
        },
        "id": "zVIGNtR_hci-",
        "outputId": "dcd89e8f-2adf-4d92-8e00-bf4802ed79d2"
      },
      "source": [
        "for tweet in tweets:\n",
        "    print(tweet.text)"
      ],
      "execution_count": 70,
      "outputs": [
        {
          "output_type": "stream",
          "text": [
            "Iam living my life like covid is over and picking the pieces from the last 15months my childrens mental health as s… https://t.co/5EpUa5jUvt\n",
            "RT @jrabrewer: Not sure Boris' claim that we have one of the freest societies in Europe thanks to our vaccine rollout cuts any ice, as hund…\n"
          ],
          "name": "stdout"
        }
      ]
    }
  ]
}